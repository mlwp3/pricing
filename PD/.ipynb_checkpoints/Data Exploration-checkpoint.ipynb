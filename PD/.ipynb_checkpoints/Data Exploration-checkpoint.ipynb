{
 "cells": [
  {
   "cell_type": "markdown",
   "metadata": {},
   "source": [
    "# Import Libraries"
   ]
  },
  {
   "cell_type": "code",
   "execution_count": 3,
   "metadata": {},
   "outputs": [],
   "source": [
    "import pandas as pd\n",
    "import seaborn as sns"
   ]
  },
  {
   "cell_type": "markdown",
   "metadata": {},
   "source": [
    "# Import Data\n",
    "\n",
    "Data is from the CAS datasets 'r' package, freMTPL\n",
    "\n",
    "In the two datasets freMTPLfreq, freMTPLsev, risk features are collected for 413,169 motor thirdpart liability policies (observed mostly on one year). In addition, we have claim numbers by policy\n",
    "as well as the corresponding claim amounts. freMTPLfreq contains the risk features and the claim number while freMTPLsev contains the claim amount and the corresponding policy ID.\n",
    "\n",
    "In the two datasets freMTPL2freq, freMTPL2sev, risk features are collected for 677,991 motor third-part liability policies (observed mostly on one year). In addition, we have claim numbers by\n",
    "policy as well as the corresponding claim amounts. freMTPL2freq contains the risk features and the claim number while freMTPL2sev contains the claim amount and the corresponding policy ID."
   ]
  },
  {
   "cell_type": "markdown",
   "metadata": {},
   "source": [
    "## Limitations\n",
    "- Data appears to be annual but with no identifier for seasonality\n",
    "- Regions may experience different risks (city, rural, mountain/snow, etc)\n",
    "- BonusMalus factor is not clearly defined in respect to how this represents prior year performance\n",
    "    - penal value could indicate poor performance/behaviour in other perils, rather than TPL\n",
    "- There are a number of policies with small levels of exposure\n",
    "    - Could have endeded due to a significant claim, which may skew analysis\n",
    "    - Small exposure value expected to add significant noise\n",
    "- Large claim values may skew the severity distribution\n",
    "    - Not many indicators of TPL claim size are included in the data\n",
    "    \n"
   ]
  },
  {
   "cell_type": "code",
   "execution_count": 4,
   "metadata": {},
   "outputs": [
    {
     "name": "stdout",
     "output_type": "stream",
     "text": [
      "509635\n"
     ]
    }
   ],
   "source": [
    "data_train_file = r'../final/Data/train_new_final.csv'\n",
    "\n",
    "data_raw = pd.read_csv(data_train_file)\n",
    "print(len(data_raw))"
   ]
  },
  {
   "cell_type": "code",
   "execution_count": 5,
   "metadata": {},
   "outputs": [
    {
     "data": {
      "text/html": [
       "<div>\n",
       "<style scoped>\n",
       "    .dataframe tbody tr th:only-of-type {\n",
       "        vertical-align: middle;\n",
       "    }\n",
       "\n",
       "    .dataframe tbody tr th {\n",
       "        vertical-align: top;\n",
       "    }\n",
       "\n",
       "    .dataframe thead th {\n",
       "        text-align: right;\n",
       "    }\n",
       "</style>\n",
       "<table border=\"1\" class=\"dataframe\">\n",
       "  <thead>\n",
       "    <tr style=\"text-align: right;\">\n",
       "      <th></th>\n",
       "      <th>ClaimNb</th>\n",
       "      <th>Exposure</th>\n",
       "      <th>Area</th>\n",
       "      <th>VehPower</th>\n",
       "      <th>BonusMalus</th>\n",
       "      <th>VehBrand</th>\n",
       "      <th>VehGas</th>\n",
       "      <th>Region</th>\n",
       "      <th>ClaimAmount</th>\n",
       "      <th>DrivAgeBand</th>\n",
       "      <th>DensityBand</th>\n",
       "      <th>VehAgeBand</th>\n",
       "      <th>Freq</th>\n",
       "    </tr>\n",
       "  </thead>\n",
       "  <tbody>\n",
       "    <tr>\n",
       "      <th>0</th>\n",
       "      <td>1</td>\n",
       "      <td>0.10</td>\n",
       "      <td>D</td>\n",
       "      <td>5</td>\n",
       "      <td>50</td>\n",
       "      <td>B12</td>\n",
       "      <td>Regular</td>\n",
       "      <td>R82</td>\n",
       "      <td>0.0</td>\n",
       "      <td>(45,55]</td>\n",
       "      <td>(100,200]</td>\n",
       "      <td>0</td>\n",
       "      <td>10.000000</td>\n",
       "    </tr>\n",
       "    <tr>\n",
       "      <th>1</th>\n",
       "      <td>1</td>\n",
       "      <td>0.09</td>\n",
       "      <td>B</td>\n",
       "      <td>7</td>\n",
       "      <td>50</td>\n",
       "      <td>B12</td>\n",
       "      <td>Diesel</td>\n",
       "      <td>R72</td>\n",
       "      <td>0.0</td>\n",
       "      <td>(45,55]</td>\n",
       "      <td>(1e+03,2e+03]</td>\n",
       "      <td>0</td>\n",
       "      <td>11.111111</td>\n",
       "    </tr>\n",
       "    <tr>\n",
       "      <th>2</th>\n",
       "      <td>1</td>\n",
       "      <td>0.87</td>\n",
       "      <td>C</td>\n",
       "      <td>5</td>\n",
       "      <td>50</td>\n",
       "      <td>B12</td>\n",
       "      <td>Regular</td>\n",
       "      <td>R31</td>\n",
       "      <td>0.0</td>\n",
       "      <td>(65,Inf]</td>\n",
       "      <td>(200,400]</td>\n",
       "      <td>0</td>\n",
       "      <td>1.149425</td>\n",
       "    </tr>\n",
       "    <tr>\n",
       "      <th>3</th>\n",
       "      <td>1</td>\n",
       "      <td>0.72</td>\n",
       "      <td>C</td>\n",
       "      <td>9</td>\n",
       "      <td>50</td>\n",
       "      <td>B12</td>\n",
       "      <td>Regular</td>\n",
       "      <td>R82</td>\n",
       "      <td>0.0</td>\n",
       "      <td>(55,65]</td>\n",
       "      <td>(400,1e+03]</td>\n",
       "      <td>0</td>\n",
       "      <td>1.388889</td>\n",
       "    </tr>\n",
       "    <tr>\n",
       "      <th>4</th>\n",
       "      <td>0</td>\n",
       "      <td>0.04</td>\n",
       "      <td>B</td>\n",
       "      <td>6</td>\n",
       "      <td>50</td>\n",
       "      <td>B12</td>\n",
       "      <td>Diesel</td>\n",
       "      <td>R22</td>\n",
       "      <td>0.0</td>\n",
       "      <td>(45,55]</td>\n",
       "      <td>(1e+03,2e+03]</td>\n",
       "      <td>3</td>\n",
       "      <td>0.000000</td>\n",
       "    </tr>\n",
       "  </tbody>\n",
       "</table>\n",
       "</div>"
      ],
      "text/plain": [
       "   ClaimNb  Exposure Area  VehPower  BonusMalus VehBrand   VehGas Region  \\\n",
       "0        1      0.10    D         5          50      B12  Regular    R82   \n",
       "1        1      0.09    B         7          50      B12   Diesel    R72   \n",
       "2        1      0.87    C         5          50      B12  Regular    R31   \n",
       "3        1      0.72    C         9          50      B12  Regular    R82   \n",
       "4        0      0.04    B         6          50      B12   Diesel    R22   \n",
       "\n",
       "   ClaimAmount DrivAgeBand    DensityBand VehAgeBand       Freq  \n",
       "0          0.0     (45,55]      (100,200]          0  10.000000  \n",
       "1          0.0     (45,55]  (1e+03,2e+03]          0  11.111111  \n",
       "2          0.0    (65,Inf]      (200,400]          0   1.149425  \n",
       "3          0.0     (55,65]    (400,1e+03]          0   1.388889  \n",
       "4          0.0     (45,55]  (1e+03,2e+03]          3   0.000000  "
      ]
     },
     "execution_count": 5,
     "metadata": {},
     "output_type": "execute_result"
    }
   ],
   "source": [
    "data_raw.head()"
   ]
  },
  {
   "cell_type": "code",
   "execution_count": 6,
   "metadata": {},
   "outputs": [
    {
     "data": {
      "text/plain": [
       "ClaimNb          int64\n",
       "Exposure       float64\n",
       "Area            object\n",
       "VehPower         int64\n",
       "BonusMalus       int64\n",
       "VehBrand        object\n",
       "VehGas          object\n",
       "Region          object\n",
       "ClaimAmount    float64\n",
       "DrivAgeBand     object\n",
       "DensityBand     object\n",
       "VehAgeBand      object\n",
       "Freq           float64\n",
       "dtype: object"
      ]
     },
     "execution_count": 6,
     "metadata": {},
     "output_type": "execute_result"
    }
   ],
   "source": [
    "data_raw.head().dtypes"
   ]
  },
  {
   "cell_type": "markdown",
   "metadata": {},
   "source": [
    "# Functions"
   ]
  },
  {
   "cell_type": "code",
   "execution_count": 7,
   "metadata": {},
   "outputs": [],
   "source": [
    "def discrete_table(column):\n",
    "    value_counts = column.value_counts()\n",
    "    summary = pd.DataFrame({'value':value_counts.index,\n",
    "                            'count':value_counts.values,\n",
    "                            'percentage': value_counts.apply(lambda x:'{:,.1f}%'.format(x/len(column)*100)).values\n",
    "                           })\n",
    "    summary.set_index('value', inplace=True)\n",
    "    \n",
    "    return summary"
   ]
  },
  {
   "cell_type": "markdown",
   "metadata": {},
   "source": [
    "# Cleansing Steps"
   ]
  },
  {
   "cell_type": "code",
   "execution_count": 20,
   "metadata": {},
   "outputs": [],
   "source": [
    "data = data_raw.copy()"
   ]
  },
  {
   "cell_type": "code",
   "execution_count": 21,
   "metadata": {},
   "outputs": [],
   "source": [
    "# Exposure\n",
    "data = data.loc[(data['Exposure']>= 0.1) & (data['Exposure']<=1)]"
   ]
  },
  {
   "cell_type": "code",
   "execution_count": 36,
   "metadata": {},
   "outputs": [],
   "source": [
    "# ClaimNb_binary\n",
    "data['ClaimNb_Binary'] = 0\n",
    "data['ClaimNb_Binary'] = data['ClaimNb_Binary'].where(data['ClaimNb']==0,1)"
   ]
  },
  {
   "cell_type": "code",
   "execution_count": 10,
   "metadata": {},
   "outputs": [],
   "source": [
    "# DrivAgeBand\n",
    "data['DrivAgeBand'] = data['DrivAgeBand'].apply(lambda x: x.replace(\"(\",\"\"))\n",
    "data['DrivAgeBand'] = data['DrivAgeBand'].apply(lambda x: x.replace(\"]\",\"\"))\n",
    "data = data.loc[data['DrivAgeBand']!='18, 25']"
   ]
  },
  {
   "cell_type": "code",
   "execution_count": 11,
   "metadata": {},
   "outputs": [],
   "source": [
    "# DensityBand\n",
    "data['DensityBand'] = data['DensityBand'].apply(lambda x: x.replace(\"(\",\"\"))\n",
    "data['DensityBand'] = data['DensityBand'].apply(lambda x: x.replace(\"]\",\"\"))"
   ]
  },
  {
   "cell_type": "code",
   "execution_count": 37,
   "metadata": {},
   "outputs": [
    {
     "data": {
      "text/html": [
       "<div>\n",
       "<style scoped>\n",
       "    .dataframe tbody tr th:only-of-type {\n",
       "        vertical-align: middle;\n",
       "    }\n",
       "\n",
       "    .dataframe tbody tr th {\n",
       "        vertical-align: top;\n",
       "    }\n",
       "\n",
       "    .dataframe thead th {\n",
       "        text-align: right;\n",
       "    }\n",
       "</style>\n",
       "<table border=\"1\" class=\"dataframe\">\n",
       "  <thead>\n",
       "    <tr style=\"text-align: right;\">\n",
       "      <th></th>\n",
       "      <th>ClaimNb</th>\n",
       "      <th>Exposure</th>\n",
       "      <th>VehPower</th>\n",
       "      <th>BonusMalus</th>\n",
       "      <th>ClaimAmount</th>\n",
       "      <th>Freq</th>\n",
       "      <th>ClaimNb_Binary</th>\n",
       "    </tr>\n",
       "  </thead>\n",
       "  <tbody>\n",
       "    <tr>\n",
       "      <th>count</th>\n",
       "      <td>417511.000000</td>\n",
       "      <td>417511.000000</td>\n",
       "      <td>417511.000000</td>\n",
       "      <td>417511.000000</td>\n",
       "      <td>4.175110e+05</td>\n",
       "      <td>417511.000000</td>\n",
       "      <td>417511.000000</td>\n",
       "    </tr>\n",
       "    <tr>\n",
       "      <th>mean</th>\n",
       "      <td>0.064588</td>\n",
       "      <td>0.630649</td>\n",
       "      <td>6.436551</td>\n",
       "      <td>59.256099</td>\n",
       "      <td>1.050827e+02</td>\n",
       "      <td>0.134481</td>\n",
       "      <td>0.058451</td>\n",
       "    </tr>\n",
       "    <tr>\n",
       "      <th>std</th>\n",
       "      <td>0.271353</td>\n",
       "      <td>0.319448</td>\n",
       "      <td>2.035178</td>\n",
       "      <td>15.437597</td>\n",
       "      <td>7.273514e+03</td>\n",
       "      <td>0.793253</td>\n",
       "      <td>0.234595</td>\n",
       "    </tr>\n",
       "    <tr>\n",
       "      <th>min</th>\n",
       "      <td>0.000000</td>\n",
       "      <td>0.100000</td>\n",
       "      <td>4.000000</td>\n",
       "      <td>50.000000</td>\n",
       "      <td>0.000000e+00</td>\n",
       "      <td>0.000000</td>\n",
       "      <td>0.000000</td>\n",
       "    </tr>\n",
       "    <tr>\n",
       "      <th>25%</th>\n",
       "      <td>0.000000</td>\n",
       "      <td>0.330000</td>\n",
       "      <td>5.000000</td>\n",
       "      <td>50.000000</td>\n",
       "      <td>0.000000e+00</td>\n",
       "      <td>0.000000</td>\n",
       "      <td>0.000000</td>\n",
       "    </tr>\n",
       "    <tr>\n",
       "      <th>50%</th>\n",
       "      <td>0.000000</td>\n",
       "      <td>0.630000</td>\n",
       "      <td>6.000000</td>\n",
       "      <td>50.000000</td>\n",
       "      <td>0.000000e+00</td>\n",
       "      <td>0.000000</td>\n",
       "      <td>0.000000</td>\n",
       "    </tr>\n",
       "    <tr>\n",
       "      <th>75%</th>\n",
       "      <td>0.000000</td>\n",
       "      <td>1.000000</td>\n",
       "      <td>7.000000</td>\n",
       "      <td>64.000000</td>\n",
       "      <td>0.000000e+00</td>\n",
       "      <td>0.000000</td>\n",
       "      <td>0.000000</td>\n",
       "    </tr>\n",
       "    <tr>\n",
       "      <th>max</th>\n",
       "      <td>3.000000</td>\n",
       "      <td>1.000000</td>\n",
       "      <td>15.000000</td>\n",
       "      <td>230.000000</td>\n",
       "      <td>4.075401e+06</td>\n",
       "      <td>48.484848</td>\n",
       "      <td>1.000000</td>\n",
       "    </tr>\n",
       "  </tbody>\n",
       "</table>\n",
       "</div>"
      ],
      "text/plain": [
       "             ClaimNb       Exposure       VehPower     BonusMalus  \\\n",
       "count  417511.000000  417511.000000  417511.000000  417511.000000   \n",
       "mean        0.064588       0.630649       6.436551      59.256099   \n",
       "std         0.271353       0.319448       2.035178      15.437597   \n",
       "min         0.000000       0.100000       4.000000      50.000000   \n",
       "25%         0.000000       0.330000       5.000000      50.000000   \n",
       "50%         0.000000       0.630000       6.000000      50.000000   \n",
       "75%         0.000000       1.000000       7.000000      64.000000   \n",
       "max         3.000000       1.000000      15.000000     230.000000   \n",
       "\n",
       "        ClaimAmount           Freq  ClaimNb_Binary  \n",
       "count  4.175110e+05  417511.000000   417511.000000  \n",
       "mean   1.050827e+02       0.134481        0.058451  \n",
       "std    7.273514e+03       0.793253        0.234595  \n",
       "min    0.000000e+00       0.000000        0.000000  \n",
       "25%    0.000000e+00       0.000000        0.000000  \n",
       "50%    0.000000e+00       0.000000        0.000000  \n",
       "75%    0.000000e+00       0.000000        0.000000  \n",
       "max    4.075401e+06      48.484848        1.000000  "
      ]
     },
     "execution_count": 37,
     "metadata": {},
     "output_type": "execute_result"
    }
   ],
   "source": [
    "data.describe()"
   ]
  },
  {
   "cell_type": "code",
   "execution_count": 38,
   "metadata": {},
   "outputs": [
    {
     "data": {
      "text/html": [
       "<div>\n",
       "<style scoped>\n",
       "    .dataframe tbody tr th:only-of-type {\n",
       "        vertical-align: middle;\n",
       "    }\n",
       "\n",
       "    .dataframe tbody tr th {\n",
       "        vertical-align: top;\n",
       "    }\n",
       "\n",
       "    .dataframe thead th {\n",
       "        text-align: right;\n",
       "    }\n",
       "</style>\n",
       "<table border=\"1\" class=\"dataframe\">\n",
       "  <thead>\n",
       "    <tr style=\"text-align: right;\">\n",
       "      <th></th>\n",
       "      <th>ClaimNb</th>\n",
       "      <th>Exposure</th>\n",
       "      <th>Area</th>\n",
       "      <th>VehPower</th>\n",
       "      <th>BonusMalus</th>\n",
       "      <th>VehBrand</th>\n",
       "      <th>VehGas</th>\n",
       "      <th>Region</th>\n",
       "      <th>ClaimAmount</th>\n",
       "      <th>DrivAgeBand</th>\n",
       "      <th>DensityBand</th>\n",
       "      <th>VehAgeBand</th>\n",
       "      <th>Freq</th>\n",
       "      <th>ClaimNb_Binary</th>\n",
       "    </tr>\n",
       "  </thead>\n",
       "  <tbody>\n",
       "    <tr>\n",
       "      <th>0</th>\n",
       "      <td>1</td>\n",
       "      <td>0.10</td>\n",
       "      <td>D</td>\n",
       "      <td>5</td>\n",
       "      <td>50</td>\n",
       "      <td>B12</td>\n",
       "      <td>Regular</td>\n",
       "      <td>R82</td>\n",
       "      <td>0.0</td>\n",
       "      <td>(45,55]</td>\n",
       "      <td>(100,200]</td>\n",
       "      <td>0</td>\n",
       "      <td>10.000000</td>\n",
       "      <td>1</td>\n",
       "    </tr>\n",
       "    <tr>\n",
       "      <th>2</th>\n",
       "      <td>1</td>\n",
       "      <td>0.87</td>\n",
       "      <td>C</td>\n",
       "      <td>5</td>\n",
       "      <td>50</td>\n",
       "      <td>B12</td>\n",
       "      <td>Regular</td>\n",
       "      <td>R31</td>\n",
       "      <td>0.0</td>\n",
       "      <td>(65,Inf]</td>\n",
       "      <td>(200,400]</td>\n",
       "      <td>0</td>\n",
       "      <td>1.149425</td>\n",
       "      <td>1</td>\n",
       "    </tr>\n",
       "    <tr>\n",
       "      <th>3</th>\n",
       "      <td>1</td>\n",
       "      <td>0.72</td>\n",
       "      <td>C</td>\n",
       "      <td>9</td>\n",
       "      <td>50</td>\n",
       "      <td>B12</td>\n",
       "      <td>Regular</td>\n",
       "      <td>R82</td>\n",
       "      <td>0.0</td>\n",
       "      <td>(55,65]</td>\n",
       "      <td>(400,1e+03]</td>\n",
       "      <td>0</td>\n",
       "      <td>1.388889</td>\n",
       "      <td>1</td>\n",
       "    </tr>\n",
       "    <tr>\n",
       "      <th>5</th>\n",
       "      <td>0</td>\n",
       "      <td>0.67</td>\n",
       "      <td>B</td>\n",
       "      <td>7</td>\n",
       "      <td>50</td>\n",
       "      <td>B12</td>\n",
       "      <td>Diesel</td>\n",
       "      <td>R22</td>\n",
       "      <td>0.0</td>\n",
       "      <td>(45,55]</td>\n",
       "      <td>(1e+03,2e+03]</td>\n",
       "      <td>0</td>\n",
       "      <td>0.000000</td>\n",
       "      <td>0</td>\n",
       "    </tr>\n",
       "    <tr>\n",
       "      <th>7</th>\n",
       "      <td>0</td>\n",
       "      <td>0.96</td>\n",
       "      <td>B</td>\n",
       "      <td>7</td>\n",
       "      <td>50</td>\n",
       "      <td>B12</td>\n",
       "      <td>Diesel</td>\n",
       "      <td>R72</td>\n",
       "      <td>0.0</td>\n",
       "      <td>(45,55]</td>\n",
       "      <td>(1e+03,2e+03]</td>\n",
       "      <td>1</td>\n",
       "      <td>0.000000</td>\n",
       "      <td>0</td>\n",
       "    </tr>\n",
       "  </tbody>\n",
       "</table>\n",
       "</div>"
      ],
      "text/plain": [
       "   ClaimNb  Exposure Area  VehPower  BonusMalus VehBrand   VehGas Region  \\\n",
       "0        1      0.10    D         5          50      B12  Regular    R82   \n",
       "2        1      0.87    C         5          50      B12  Regular    R31   \n",
       "3        1      0.72    C         9          50      B12  Regular    R82   \n",
       "5        0      0.67    B         7          50      B12   Diesel    R22   \n",
       "7        0      0.96    B         7          50      B12   Diesel    R72   \n",
       "\n",
       "   ClaimAmount DrivAgeBand    DensityBand VehAgeBand       Freq  \\\n",
       "0          0.0     (45,55]      (100,200]          0  10.000000   \n",
       "2          0.0    (65,Inf]      (200,400]          0   1.149425   \n",
       "3          0.0     (55,65]    (400,1e+03]          0   1.388889   \n",
       "5          0.0     (45,55]  (1e+03,2e+03]          0   0.000000   \n",
       "7          0.0     (45,55]  (1e+03,2e+03]          1   0.000000   \n",
       "\n",
       "   ClaimNb_Binary  \n",
       "0               1  \n",
       "2               1  \n",
       "3               1  \n",
       "5               0  \n",
       "7               0  "
      ]
     },
     "execution_count": 38,
     "metadata": {},
     "output_type": "execute_result"
    }
   ],
   "source": [
    "data.head()"
   ]
  },
  {
   "cell_type": "markdown",
   "metadata": {},
   "source": [
    "# Targets"
   ]
  },
  {
   "cell_type": "markdown",
   "metadata": {},
   "source": [
    "## ClaimNb"
   ]
  },
  {
   "cell_type": "code",
   "execution_count": 59,
   "metadata": {},
   "outputs": [
    {
     "data": {
      "text/html": [
       "<div>\n",
       "<style scoped>\n",
       "    .dataframe tbody tr th:only-of-type {\n",
       "        vertical-align: middle;\n",
       "    }\n",
       "\n",
       "    .dataframe tbody tr th {\n",
       "        vertical-align: top;\n",
       "    }\n",
       "\n",
       "    .dataframe thead th {\n",
       "        text-align: right;\n",
       "    }\n",
       "</style>\n",
       "<table border=\"1\" class=\"dataframe\">\n",
       "  <thead>\n",
       "    <tr style=\"text-align: right;\">\n",
       "      <th></th>\n",
       "      <th>count</th>\n",
       "      <th>percentage</th>\n",
       "    </tr>\n",
       "    <tr>\n",
       "      <th>value</th>\n",
       "      <th></th>\n",
       "      <th></th>\n",
       "    </tr>\n",
       "  </thead>\n",
       "  <tbody>\n",
       "    <tr>\n",
       "      <th>0</th>\n",
       "      <td>482937</td>\n",
       "      <td>94.8%</td>\n",
       "    </tr>\n",
       "    <tr>\n",
       "      <th>1</th>\n",
       "      <td>24185</td>\n",
       "      <td>4.7%</td>\n",
       "    </tr>\n",
       "    <tr>\n",
       "      <th>2</th>\n",
       "      <td>2282</td>\n",
       "      <td>0.4%</td>\n",
       "    </tr>\n",
       "    <tr>\n",
       "      <th>3</th>\n",
       "      <td>231</td>\n",
       "      <td>0.0%</td>\n",
       "    </tr>\n",
       "  </tbody>\n",
       "</table>\n",
       "</div>"
      ],
      "text/plain": [
       "        count percentage\n",
       "value                   \n",
       "0      482937      94.8%\n",
       "1       24185       4.7%\n",
       "2        2282       0.4%\n",
       "3         231       0.0%"
      ]
     },
     "execution_count": 59,
     "metadata": {},
     "output_type": "execute_result"
    }
   ],
   "source": [
    "discrete_table(data_raw['ClaimNb'])"
   ]
  },
  {
   "cell_type": "markdown",
   "metadata": {},
   "source": [
    "## Claim Amount\n",
    "\n",
    "- needs banding, small values could distort and need to be understood\n",
    "- claim amount net of excess or net of recovery as values can be <$10\n",
    "- consider looking at capped claims to avoid outlier distortion"
   ]
  },
  {
   "cell_type": "code",
   "execution_count": 80,
   "metadata": {},
   "outputs": [
    {
     "data": {
      "text/plain": [
       "<matplotlib.axes._subplots.AxesSubplot at 0x1528e4d5148>"
      ]
     },
     "execution_count": 80,
     "metadata": {},
     "output_type": "execute_result"
    },
    {
     "data": {
      "image/png": "[encoded data removed]",
      "text/plain": [
       "<Figure size 432x288 with 1 Axes>"
      ]
     },
     "metadata": {
      "needs_background": "light"
     },
     "output_type": "display_data"
    }
   ],
   "source": [
    "data_raw['ClaimAmount'].loc[(data_raw['ClaimAmount']>0) & (data_raw['ClaimAmount']<100) ].plot(kind='kde')"
   ]
  },
  {
   "cell_type": "code",
   "execution_count": 82,
   "metadata": {},
   "outputs": [
    {
     "data": {
      "text/plain": [
       "count    1.988500e+04\n",
       "mean     2.332898e+03\n",
       "std      3.330537e+04\n",
       "min      1.090000e+00\n",
       "25%      6.828200e+02\n",
       "50%      1.172000e+03\n",
       "75%      1.228080e+03\n",
       "max      4.075401e+06\n",
       "Name: ClaimAmount, dtype: float64"
      ]
     },
     "execution_count": 82,
     "metadata": {},
     "output_type": "execute_result"
    }
   ],
   "source": [
    "data_raw['ClaimAmount'].loc[data_raw['ClaimAmount']>0].describe()"
   ]
  },
  {
   "cell_type": "markdown",
   "metadata": {},
   "source": [
    "## Freq"
   ]
  },
  {
   "cell_type": "code",
   "execution_count": 13,
   "metadata": {},
   "outputs": [
    {
     "data": {
      "text/plain": [
       "<matplotlib.axes._subplots.AxesSubplot at 0x1dfe616bb08>"
      ]
     },
     "execution_count": 13,
     "metadata": {},
     "output_type": "execute_result"
    },
    {
     "data": {
      "image/png": "[encoded data removed]",
      "text/plain": [
       "<Figure size 432x288 with 1 Axes>"
      ]
     },
     "metadata": {
      "needs_background": "light"
     },
     "output_type": "display_data"
    }
   ],
   "source": [
    "data['Freq'].plot(kind='kde')"
   ]
  },
  {
   "cell_type": "code",
   "execution_count": 14,
   "metadata": {},
   "outputs": [
    {
     "data": {
      "text/plain": [
       "count    417122.000000\n",
       "mean          0.134188\n",
       "std           0.792371\n",
       "min           0.000000\n",
       "25%           0.000000\n",
       "50%           0.000000\n",
       "75%           0.000000\n",
       "max          48.484848\n",
       "Name: Freq, dtype: float64"
      ]
     },
     "execution_count": 14,
     "metadata": {},
     "output_type": "execute_result"
    }
   ],
   "source": [
    "data['Freq'].describe()"
   ]
  },
  {
   "cell_type": "code",
   "execution_count": 121,
   "metadata": {},
   "outputs": [
    {
     "data": {
      "text/plain": [
       "<matplotlib.axes._subplots.AxesSubplot at 0x152973897c8>"
      ]
     },
     "execution_count": 121,
     "metadata": {},
     "output_type": "execute_result"
    },
    {
     "data": {
      "image/png": "[encoded data removed]",
      "text/plain": [
       "<Figure size 432x288 with 1 Axes>"
      ]
     },
     "metadata": {
      "needs_background": "light"
     },
     "output_type": "display_data"
    }
   ],
   "source": [
    "# Plot claims data \n",
    "data_raw_filtered = data_raw.loc[data_raw['ClaimNb']>0]\n",
    "data_filtered = data.loc[data['ClaimNb']>0]\n",
    "\n",
    "sns.scatterplot(data=data_filtered, x='Freq', y='ClaimNb', hue='Exposure')"
   ]
  },
  {
   "cell_type": "code",
   "execution_count": 139,
   "metadata": {},
   "outputs": [
    {
     "data": {
      "text/html": [
       "<div>\n",
       "<style scoped>\n",
       "    .dataframe tbody tr th:only-of-type {\n",
       "        vertical-align: middle;\n",
       "    }\n",
       "\n",
       "    .dataframe tbody tr th {\n",
       "        vertical-align: top;\n",
       "    }\n",
       "\n",
       "    .dataframe thead th {\n",
       "        text-align: right;\n",
       "    }\n",
       "</style>\n",
       "<table border=\"1\" class=\"dataframe\">\n",
       "  <thead>\n",
       "    <tr style=\"text-align: right;\">\n",
       "      <th></th>\n",
       "      <th>ClaimNb</th>\n",
       "      <th>Exposure</th>\n",
       "      <th>Area</th>\n",
       "      <th>VehPower</th>\n",
       "      <th>BonusMalus</th>\n",
       "      <th>VehBrand</th>\n",
       "      <th>VehGas</th>\n",
       "      <th>Region</th>\n",
       "      <th>ClaimAmount</th>\n",
       "      <th>DrivAgeBand</th>\n",
       "      <th>DensityBand</th>\n",
       "      <th>VehAgeBand</th>\n",
       "      <th>Freq</th>\n",
       "    </tr>\n",
       "  </thead>\n",
       "  <tbody>\n",
       "    <tr>\n",
       "      <th>207534</th>\n",
       "      <td>3</td>\n",
       "      <td>0.33</td>\n",
       "      <td>D</td>\n",
       "      <td>4</td>\n",
       "      <td>50</td>\n",
       "      <td>B1</td>\n",
       "      <td>Regular</td>\n",
       "      <td>R91</td>\n",
       "      <td>809.31</td>\n",
       "      <td>45,55</td>\n",
       "      <td>1e+03,2e+03</td>\n",
       "      <td>12</td>\n",
       "      <td>48.484848</td>\n",
       "    </tr>\n",
       "    <tr>\n",
       "      <th>207535</th>\n",
       "      <td>3</td>\n",
       "      <td>0.33</td>\n",
       "      <td>D</td>\n",
       "      <td>4</td>\n",
       "      <td>50</td>\n",
       "      <td>B1</td>\n",
       "      <td>Regular</td>\n",
       "      <td>R91</td>\n",
       "      <td>4500.00</td>\n",
       "      <td>45,55</td>\n",
       "      <td>1e+03,2e+03</td>\n",
       "      <td>12</td>\n",
       "      <td>48.484848</td>\n",
       "    </tr>\n",
       "    <tr>\n",
       "      <th>207536</th>\n",
       "      <td>3</td>\n",
       "      <td>0.33</td>\n",
       "      <td>D</td>\n",
       "      <td>4</td>\n",
       "      <td>50</td>\n",
       "      <td>B1</td>\n",
       "      <td>Regular</td>\n",
       "      <td>R91</td>\n",
       "      <td>1628.50</td>\n",
       "      <td>45,55</td>\n",
       "      <td>1e+03,2e+03</td>\n",
       "      <td>12</td>\n",
       "      <td>48.484848</td>\n",
       "    </tr>\n",
       "    <tr>\n",
       "      <th>207537</th>\n",
       "      <td>3</td>\n",
       "      <td>0.33</td>\n",
       "      <td>D</td>\n",
       "      <td>4</td>\n",
       "      <td>50</td>\n",
       "      <td>B1</td>\n",
       "      <td>Regular</td>\n",
       "      <td>R91</td>\n",
       "      <td>1987.42</td>\n",
       "      <td>45,55</td>\n",
       "      <td>1e+03,2e+03</td>\n",
       "      <td>12</td>\n",
       "      <td>48.484848</td>\n",
       "    </tr>\n",
       "    <tr>\n",
       "      <th>207538</th>\n",
       "      <td>3</td>\n",
       "      <td>0.33</td>\n",
       "      <td>D</td>\n",
       "      <td>4</td>\n",
       "      <td>50</td>\n",
       "      <td>B1</td>\n",
       "      <td>Regular</td>\n",
       "      <td>R91</td>\n",
       "      <td>1520.00</td>\n",
       "      <td>45,55</td>\n",
       "      <td>1e+03,2e+03</td>\n",
       "      <td>12</td>\n",
       "      <td>48.484848</td>\n",
       "    </tr>\n",
       "    <tr>\n",
       "      <th>207539</th>\n",
       "      <td>3</td>\n",
       "      <td>0.33</td>\n",
       "      <td>D</td>\n",
       "      <td>4</td>\n",
       "      <td>50</td>\n",
       "      <td>B1</td>\n",
       "      <td>Regular</td>\n",
       "      <td>R91</td>\n",
       "      <td>101.66</td>\n",
       "      <td>45,55</td>\n",
       "      <td>1e+03,2e+03</td>\n",
       "      <td>12</td>\n",
       "      <td>48.484848</td>\n",
       "    </tr>\n",
       "    <tr>\n",
       "      <th>207540</th>\n",
       "      <td>3</td>\n",
       "      <td>0.33</td>\n",
       "      <td>D</td>\n",
       "      <td>4</td>\n",
       "      <td>50</td>\n",
       "      <td>B1</td>\n",
       "      <td>Regular</td>\n",
       "      <td>R91</td>\n",
       "      <td>127.74</td>\n",
       "      <td>45,55</td>\n",
       "      <td>1e+03,2e+03</td>\n",
       "      <td>12</td>\n",
       "      <td>48.484848</td>\n",
       "    </tr>\n",
       "    <tr>\n",
       "      <th>207541</th>\n",
       "      <td>3</td>\n",
       "      <td>0.33</td>\n",
       "      <td>D</td>\n",
       "      <td>4</td>\n",
       "      <td>50</td>\n",
       "      <td>B1</td>\n",
       "      <td>Regular</td>\n",
       "      <td>R91</td>\n",
       "      <td>2093.85</td>\n",
       "      <td>45,55</td>\n",
       "      <td>1e+03,2e+03</td>\n",
       "      <td>12</td>\n",
       "      <td>48.484848</td>\n",
       "    </tr>\n",
       "    <tr>\n",
       "      <th>207542</th>\n",
       "      <td>3</td>\n",
       "      <td>0.33</td>\n",
       "      <td>D</td>\n",
       "      <td>4</td>\n",
       "      <td>50</td>\n",
       "      <td>B1</td>\n",
       "      <td>Regular</td>\n",
       "      <td>R91</td>\n",
       "      <td>1500.00</td>\n",
       "      <td>45,55</td>\n",
       "      <td>1e+03,2e+03</td>\n",
       "      <td>12</td>\n",
       "      <td>48.484848</td>\n",
       "    </tr>\n",
       "    <tr>\n",
       "      <th>207543</th>\n",
       "      <td>3</td>\n",
       "      <td>0.33</td>\n",
       "      <td>D</td>\n",
       "      <td>4</td>\n",
       "      <td>50</td>\n",
       "      <td>B1</td>\n",
       "      <td>Regular</td>\n",
       "      <td>R91</td>\n",
       "      <td>1965.60</td>\n",
       "      <td>45,55</td>\n",
       "      <td>1e+03,2e+03</td>\n",
       "      <td>12</td>\n",
       "      <td>48.484848</td>\n",
       "    </tr>\n",
       "    <tr>\n",
       "      <th>207544</th>\n",
       "      <td>3</td>\n",
       "      <td>0.33</td>\n",
       "      <td>D</td>\n",
       "      <td>4</td>\n",
       "      <td>50</td>\n",
       "      <td>B1</td>\n",
       "      <td>Regular</td>\n",
       "      <td>R91</td>\n",
       "      <td>10000.00</td>\n",
       "      <td>45,55</td>\n",
       "      <td>1e+03,2e+03</td>\n",
       "      <td>12</td>\n",
       "      <td>48.484848</td>\n",
       "    </tr>\n",
       "    <tr>\n",
       "      <th>207545</th>\n",
       "      <td>3</td>\n",
       "      <td>0.33</td>\n",
       "      <td>D</td>\n",
       "      <td>4</td>\n",
       "      <td>50</td>\n",
       "      <td>B1</td>\n",
       "      <td>Regular</td>\n",
       "      <td>R91</td>\n",
       "      <td>1850.19</td>\n",
       "      <td>45,55</td>\n",
       "      <td>1e+03,2e+03</td>\n",
       "      <td>12</td>\n",
       "      <td>48.484848</td>\n",
       "    </tr>\n",
       "    <tr>\n",
       "      <th>207546</th>\n",
       "      <td>3</td>\n",
       "      <td>0.33</td>\n",
       "      <td>D</td>\n",
       "      <td>4</td>\n",
       "      <td>50</td>\n",
       "      <td>B1</td>\n",
       "      <td>Regular</td>\n",
       "      <td>R91</td>\n",
       "      <td>96.24</td>\n",
       "      <td>45,55</td>\n",
       "      <td>1e+03,2e+03</td>\n",
       "      <td>12</td>\n",
       "      <td>48.484848</td>\n",
       "    </tr>\n",
       "    <tr>\n",
       "      <th>207547</th>\n",
       "      <td>3</td>\n",
       "      <td>0.33</td>\n",
       "      <td>D</td>\n",
       "      <td>4</td>\n",
       "      <td>50</td>\n",
       "      <td>B1</td>\n",
       "      <td>Regular</td>\n",
       "      <td>R91</td>\n",
       "      <td>3499.65</td>\n",
       "      <td>45,55</td>\n",
       "      <td>1e+03,2e+03</td>\n",
       "      <td>12</td>\n",
       "      <td>48.484848</td>\n",
       "    </tr>\n",
       "    <tr>\n",
       "      <th>207548</th>\n",
       "      <td>3</td>\n",
       "      <td>0.33</td>\n",
       "      <td>D</td>\n",
       "      <td>4</td>\n",
       "      <td>50</td>\n",
       "      <td>B1</td>\n",
       "      <td>Regular</td>\n",
       "      <td>R91</td>\n",
       "      <td>2349.21</td>\n",
       "      <td>45,55</td>\n",
       "      <td>1e+03,2e+03</td>\n",
       "      <td>12</td>\n",
       "      <td>48.484848</td>\n",
       "    </tr>\n",
       "    <tr>\n",
       "      <th>351166</th>\n",
       "      <td>3</td>\n",
       "      <td>0.10</td>\n",
       "      <td>E</td>\n",
       "      <td>4</td>\n",
       "      <td>85</td>\n",
       "      <td>B12</td>\n",
       "      <td>Regular</td>\n",
       "      <td>R31</td>\n",
       "      <td>1031.00</td>\n",
       "      <td>25,35</td>\n",
       "      <td>400,1e+03</td>\n",
       "      <td>1</td>\n",
       "      <td>40.000000</td>\n",
       "    </tr>\n",
       "    <tr>\n",
       "      <th>351167</th>\n",
       "      <td>3</td>\n",
       "      <td>0.10</td>\n",
       "      <td>E</td>\n",
       "      <td>4</td>\n",
       "      <td>85</td>\n",
       "      <td>B12</td>\n",
       "      <td>Regular</td>\n",
       "      <td>R31</td>\n",
       "      <td>1204.00</td>\n",
       "      <td>25,35</td>\n",
       "      <td>400,1e+03</td>\n",
       "      <td>1</td>\n",
       "      <td>40.000000</td>\n",
       "    </tr>\n",
       "    <tr>\n",
       "      <th>351168</th>\n",
       "      <td>3</td>\n",
       "      <td>0.10</td>\n",
       "      <td>E</td>\n",
       "      <td>4</td>\n",
       "      <td>85</td>\n",
       "      <td>B12</td>\n",
       "      <td>Regular</td>\n",
       "      <td>R31</td>\n",
       "      <td>2229.81</td>\n",
       "      <td>25,35</td>\n",
       "      <td>400,1e+03</td>\n",
       "      <td>1</td>\n",
       "      <td>40.000000</td>\n",
       "    </tr>\n",
       "    <tr>\n",
       "      <th>351169</th>\n",
       "      <td>3</td>\n",
       "      <td>0.10</td>\n",
       "      <td>E</td>\n",
       "      <td>4</td>\n",
       "      <td>85</td>\n",
       "      <td>B12</td>\n",
       "      <td>Regular</td>\n",
       "      <td>R31</td>\n",
       "      <td>1204.00</td>\n",
       "      <td>25,35</td>\n",
       "      <td>400,1e+03</td>\n",
       "      <td>1</td>\n",
       "      <td>40.000000</td>\n",
       "    </tr>\n",
       "  </tbody>\n",
       "</table>\n",
       "</div>"
      ],
      "text/plain": [
       "        ClaimNb  Exposure Area  VehPower  BonusMalus VehBrand   VehGas Region  \\\n",
       "207534        3      0.33    D         4          50       B1  Regular    R91   \n",
       "207535        3      0.33    D         4          50       B1  Regular    R91   \n",
       "207536        3      0.33    D         4          50       B1  Regular    R91   \n",
       "207537        3      0.33    D         4          50       B1  Regular    R91   \n",
       "207538        3      0.33    D         4          50       B1  Regular    R91   \n",
       "207539        3      0.33    D         4          50       B1  Regular    R91   \n",
       "207540        3      0.33    D         4          50       B1  Regular    R91   \n",
       "207541        3      0.33    D         4          50       B1  Regular    R91   \n",
       "207542        3      0.33    D         4          50       B1  Regular    R91   \n",
       "207543        3      0.33    D         4          50       B1  Regular    R91   \n",
       "207544        3      0.33    D         4          50       B1  Regular    R91   \n",
       "207545        3      0.33    D         4          50       B1  Regular    R91   \n",
       "207546        3      0.33    D         4          50       B1  Regular    R91   \n",
       "207547        3      0.33    D         4          50       B1  Regular    R91   \n",
       "207548        3      0.33    D         4          50       B1  Regular    R91   \n",
       "351166        3      0.10    E         4          85      B12  Regular    R31   \n",
       "351167        3      0.10    E         4          85      B12  Regular    R31   \n",
       "351168        3      0.10    E         4          85      B12  Regular    R31   \n",
       "351169        3      0.10    E         4          85      B12  Regular    R31   \n",
       "\n",
       "        ClaimAmount DrivAgeBand  DensityBand VehAgeBand       Freq  \n",
       "207534       809.31       45,55  1e+03,2e+03         12  48.484848  \n",
       "207535      4500.00       45,55  1e+03,2e+03         12  48.484848  \n",
       "207536      1628.50       45,55  1e+03,2e+03         12  48.484848  \n",
       "207537      1987.42       45,55  1e+03,2e+03         12  48.484848  \n",
       "207538      1520.00       45,55  1e+03,2e+03         12  48.484848  \n",
       "207539       101.66       45,55  1e+03,2e+03         12  48.484848  \n",
       "207540       127.74       45,55  1e+03,2e+03         12  48.484848  \n",
       "207541      2093.85       45,55  1e+03,2e+03         12  48.484848  \n",
       "207542      1500.00       45,55  1e+03,2e+03         12  48.484848  \n",
       "207543      1965.60       45,55  1e+03,2e+03         12  48.484848  \n",
       "207544     10000.00       45,55  1e+03,2e+03         12  48.484848  \n",
       "207545      1850.19       45,55  1e+03,2e+03         12  48.484848  \n",
       "207546        96.24       45,55  1e+03,2e+03         12  48.484848  \n",
       "207547      3499.65       45,55  1e+03,2e+03         12  48.484848  \n",
       "207548      2349.21       45,55  1e+03,2e+03         12  48.484848  \n",
       "351166      1031.00       25,35    400,1e+03          1  40.000000  \n",
       "351167      1204.00       25,35    400,1e+03          1  40.000000  \n",
       "351168      2229.81       25,35    400,1e+03          1  40.000000  \n",
       "351169      1204.00       25,35    400,1e+03          1  40.000000  "
      ]
     },
     "execution_count": 139,
     "metadata": {},
     "output_type": "execute_result"
    }
   ],
   "source": [
    "data.loc[data['Freq']>30]\n"
   ]
  },
  {
   "cell_type": "markdown",
   "metadata": {},
   "source": [
    "# Factors"
   ]
  },
  {
   "cell_type": "markdown",
   "metadata": {},
   "source": [
    "## Exposure\n",
    "\n",
    "The exposure, in years\n",
    "\n",
    "Expected range is 0-1, 'vehicle years'\n",
    "- Remove all exposures over 1, \n",
    "- Remove all exposures under 10% (not sufficient exposure)\n"
   ]
  },
  {
   "cell_type": "code",
   "execution_count": 40,
   "metadata": {},
   "outputs": [
    {
     "data": {
      "text/plain": [
       "<matplotlib.axes._subplots.AxesSubplot at 0x1df98911f08>"
      ]
     },
     "execution_count": 40,
     "metadata": {},
     "output_type": "execute_result"
    },
    {
     "data": {
      "image/png": "[encoded data removed]",
      "text/plain": [
       "<Figure size 432x288 with 1 Axes>"
      ]
     },
     "metadata": {
      "needs_background": "light"
     },
     "output_type": "display_data"
    }
   ],
   "source": [
    "data['Exposure'].plot(kind='kde')"
   ]
  },
  {
   "cell_type": "code",
   "execution_count": 41,
   "metadata": {},
   "outputs": [
    {
     "data": {
      "text/plain": [
       "count    417511.000000\n",
       "mean          0.630649\n",
       "std           0.319448\n",
       "min           0.100000\n",
       "25%           0.330000\n",
       "50%           0.630000\n",
       "75%           1.000000\n",
       "max           1.000000\n",
       "Name: Exposure, dtype: float64"
      ]
     },
     "execution_count": 41,
     "metadata": {},
     "output_type": "execute_result"
    }
   ],
   "source": [
    "data['Exposure'].describe()"
   ]
  },
  {
   "cell_type": "markdown",
   "metadata": {},
   "source": [
    "### Correlation with Claim"
   ]
  },
  {
   "cell_type": "code",
   "execution_count": 46,
   "metadata": {},
   "outputs": [
    {
     "data": {
      "text/html": [
       "<div>\n",
       "<style scoped>\n",
       "    .dataframe tbody tr th:only-of-type {\n",
       "        vertical-align: middle;\n",
       "    }\n",
       "\n",
       "    .dataframe tbody tr th {\n",
       "        vertical-align: top;\n",
       "    }\n",
       "\n",
       "    .dataframe thead th {\n",
       "        text-align: right;\n",
       "    }\n",
       "</style>\n",
       "<table border=\"1\" class=\"dataframe\">\n",
       "  <thead>\n",
       "    <tr style=\"text-align: right;\">\n",
       "      <th></th>\n",
       "      <th>ClaimNb_Binary</th>\n",
       "      <th>Exposure</th>\n",
       "    </tr>\n",
       "  </thead>\n",
       "  <tbody>\n",
       "    <tr>\n",
       "      <th>ClaimNb_Binary</th>\n",
       "      <td>1.000000</td>\n",
       "      <td>0.051355</td>\n",
       "    </tr>\n",
       "    <tr>\n",
       "      <th>Exposure</th>\n",
       "      <td>0.051355</td>\n",
       "      <td>1.000000</td>\n",
       "    </tr>\n",
       "  </tbody>\n",
       "</table>\n",
       "</div>"
      ],
      "text/plain": [
       "                ClaimNb_Binary  Exposure\n",
       "ClaimNb_Binary        1.000000  0.051355\n",
       "Exposure              0.051355  1.000000"
      ]
     },
     "execution_count": 46,
     "metadata": {},
     "output_type": "execute_result"
    }
   ],
   "source": [
    "data[['ClaimNb_Binary', 'Exposure']].corr(method='spearman')"
   ]
  },
  {
   "cell_type": "code",
   "execution_count": 47,
   "metadata": {},
   "outputs": [
    {
     "data": {
      "text/html": [
       "<div>\n",
       "<style scoped>\n",
       "    .dataframe tbody tr th:only-of-type {\n",
       "        vertical-align: middle;\n",
       "    }\n",
       "\n",
       "    .dataframe tbody tr th {\n",
       "        vertical-align: top;\n",
       "    }\n",
       "\n",
       "    .dataframe thead th {\n",
       "        text-align: right;\n",
       "    }\n",
       "</style>\n",
       "<table border=\"1\" class=\"dataframe\">\n",
       "  <thead>\n",
       "    <tr style=\"text-align: right;\">\n",
       "      <th></th>\n",
       "      <th>ClaimNb</th>\n",
       "      <th>Exposure</th>\n",
       "    </tr>\n",
       "  </thead>\n",
       "  <tbody>\n",
       "    <tr>\n",
       "      <th>ClaimNb</th>\n",
       "      <td>1.000000</td>\n",
       "      <td>0.051338</td>\n",
       "    </tr>\n",
       "    <tr>\n",
       "      <th>Exposure</th>\n",
       "      <td>0.051338</td>\n",
       "      <td>1.000000</td>\n",
       "    </tr>\n",
       "  </tbody>\n",
       "</table>\n",
       "</div>"
      ],
      "text/plain": [
       "           ClaimNb  Exposure\n",
       "ClaimNb   1.000000  0.051338\n",
       "Exposure  0.051338  1.000000"
      ]
     },
     "execution_count": 47,
     "metadata": {},
     "output_type": "execute_result"
    }
   ],
   "source": [
    "data[['ClaimNb', 'Exposure']].corr(method='spearman')"
   ]
  },
  {
   "cell_type": "code",
   "execution_count": 45,
   "metadata": {},
   "outputs": [
    {
     "data": {
      "text/html": [
       "<div>\n",
       "<style scoped>\n",
       "    .dataframe tbody tr th:only-of-type {\n",
       "        vertical-align: middle;\n",
       "    }\n",
       "\n",
       "    .dataframe tbody tr th {\n",
       "        vertical-align: top;\n",
       "    }\n",
       "\n",
       "    .dataframe thead th {\n",
       "        text-align: right;\n",
       "    }\n",
       "</style>\n",
       "<table border=\"1\" class=\"dataframe\">\n",
       "  <thead>\n",
       "    <tr style=\"text-align: right;\">\n",
       "      <th></th>\n",
       "      <th>ClaimNb</th>\n",
       "      <th>Exposure</th>\n",
       "    </tr>\n",
       "  </thead>\n",
       "  <tbody>\n",
       "    <tr>\n",
       "      <th>ClaimNb</th>\n",
       "      <td>1.000000</td>\n",
       "      <td>0.074543</td>\n",
       "    </tr>\n",
       "    <tr>\n",
       "      <th>Exposure</th>\n",
       "      <td>0.074543</td>\n",
       "      <td>1.000000</td>\n",
       "    </tr>\n",
       "  </tbody>\n",
       "</table>\n",
       "</div>"
      ],
      "text/plain": [
       "           ClaimNb  Exposure\n",
       "ClaimNb   1.000000  0.074543\n",
       "Exposure  0.074543  1.000000"
      ]
     },
     "execution_count": 45,
     "metadata": {},
     "output_type": "execute_result"
    }
   ],
   "source": [
    "data_raw[['ClaimNb', 'Exposure']].corr(method='spearman')"
   ]
  },
  {
   "cell_type": "markdown",
   "metadata": {},
   "source": [
    "Cutting out the low exposure policies reduces the correlation between claim and exposure."
   ]
  },
  {
   "cell_type": "code",
   "execution_count": 80,
   "metadata": {},
   "outputs": [],
   "source": [
    "def view_bins(data, field, target):\n",
    "    t_data = data.copy()\n",
    "    field_bins = field + '_bins'\n",
    "    t_data[field_bins] = pd.cut(t_data[field], bins=20)\n",
    "    chart = data[[field_bins,target]].groupby(by=field_bins).mean().plot(kind='bar')\n",
    "    return chart"
   ]
  },
  {
   "cell_type": "code",
   "execution_count": 81,
   "metadata": {},
   "outputs": [
    {
     "data": {
      "text/plain": [
       "<matplotlib.axes._subplots.AxesSubplot at 0x1df9e537108>"
      ]
     },
     "execution_count": 81,
     "metadata": {},
     "output_type": "execute_result"
    },
    {
     "data": {
      "image/png": "[encoded data removed]",
      "text/plain": [
       "<Figure size 432x288 with 1 Axes>"
      ]
     },
     "metadata": {
      "needs_background": "light"
     },
     "output_type": "display_data"
    }
   ],
   "source": [
    "view_bins(data, 'Exposure', 'ClaimNb')"
   ]
  },
  {
   "cell_type": "code",
   "execution_count": null,
   "metadata": {},
   "outputs": [],
   "source": []
  },
  {
   "cell_type": "markdown",
   "metadata": {},
   "source": [
    "## Area\n",
    "\n",
    "Discrete, No actions, good split of areas\n"
   ]
  },
  {
   "cell_type": "code",
   "execution_count": 61,
   "metadata": {},
   "outputs": [
    {
     "data": {
      "text/html": [
       "<div>\n",
       "<style scoped>\n",
       "    .dataframe tbody tr th:only-of-type {\n",
       "        vertical-align: middle;\n",
       "    }\n",
       "\n",
       "    .dataframe tbody tr th {\n",
       "        vertical-align: top;\n",
       "    }\n",
       "\n",
       "    .dataframe thead th {\n",
       "        text-align: right;\n",
       "    }\n",
       "</style>\n",
       "<table border=\"1\" class=\"dataframe\">\n",
       "  <thead>\n",
       "    <tr style=\"text-align: right;\">\n",
       "      <th></th>\n",
       "      <th>count</th>\n",
       "      <th>percentage</th>\n",
       "    </tr>\n",
       "    <tr>\n",
       "      <th>value</th>\n",
       "      <th></th>\n",
       "      <th></th>\n",
       "    </tr>\n",
       "  </thead>\n",
       "  <tbody>\n",
       "    <tr>\n",
       "      <th>C</th>\n",
       "      <td>144167</td>\n",
       "      <td>28.3%</td>\n",
       "    </tr>\n",
       "    <tr>\n",
       "      <th>D</th>\n",
       "      <td>113784</td>\n",
       "      <td>22.3%</td>\n",
       "    </tr>\n",
       "    <tr>\n",
       "      <th>E</th>\n",
       "      <td>103260</td>\n",
       "      <td>20.3%</td>\n",
       "    </tr>\n",
       "    <tr>\n",
       "      <th>A</th>\n",
       "      <td>78376</td>\n",
       "      <td>15.4%</td>\n",
       "    </tr>\n",
       "    <tr>\n",
       "      <th>B</th>\n",
       "      <td>56417</td>\n",
       "      <td>11.1%</td>\n",
       "    </tr>\n",
       "    <tr>\n",
       "      <th>F</th>\n",
       "      <td>13631</td>\n",
       "      <td>2.7%</td>\n",
       "    </tr>\n",
       "  </tbody>\n",
       "</table>\n",
       "</div>"
      ],
      "text/plain": [
       "        count percentage\n",
       "value                   \n",
       "C      144167      28.3%\n",
       "D      113784      22.3%\n",
       "E      103260      20.3%\n",
       "A       78376      15.4%\n",
       "B       56417      11.1%\n",
       "F       13631       2.7%"
      ]
     },
     "execution_count": 61,
     "metadata": {},
     "output_type": "execute_result"
    }
   ],
   "source": [
    "discrete_table(data_raw['Area'])"
   ]
  },
  {
   "cell_type": "markdown",
   "metadata": {},
   "source": [
    "## VehPower\n",
    "\n",
    "The power of the car (ordered categorical)\n",
    "- Categorical\n",
    "- Could group power ratings if required (L,M,H)\n",
    "\n",
    "\n",
    "Insurance groups\tVehicle make and models\n",
    "0-5\t    Fiat Panda Active, Citroen C1, Skoda Fabia Classic, Toyota Aygo, Ford KA, Vauxhall Corsa\n",
    "6-10\tChevrolet Matiz, Citroen C3, Ford Fiesta, Fiat 500, Mazda 2\n",
    "11-15\tAudi A2, Ford Focus, Honda Civic, Kia Cee'd, Mitsubishi Colt"
   ]
  },
  {
   "cell_type": "code",
   "execution_count": 83,
   "metadata": {},
   "outputs": [
    {
     "data": {
      "text/html": [
       "<div>\n",
       "<style scoped>\n",
       "    .dataframe tbody tr th:only-of-type {\n",
       "        vertical-align: middle;\n",
       "    }\n",
       "\n",
       "    .dataframe tbody tr th {\n",
       "        vertical-align: top;\n",
       "    }\n",
       "\n",
       "    .dataframe thead th {\n",
       "        text-align: right;\n",
       "    }\n",
       "</style>\n",
       "<table border=\"1\" class=\"dataframe\">\n",
       "  <thead>\n",
       "    <tr style=\"text-align: right;\">\n",
       "      <th></th>\n",
       "      <th>count</th>\n",
       "      <th>percentage</th>\n",
       "    </tr>\n",
       "    <tr>\n",
       "      <th>value</th>\n",
       "      <th></th>\n",
       "      <th></th>\n",
       "    </tr>\n",
       "  </thead>\n",
       "  <tbody>\n",
       "    <tr>\n",
       "      <th>6</th>\n",
       "      <td>112058</td>\n",
       "      <td>22.0%</td>\n",
       "    </tr>\n",
       "    <tr>\n",
       "      <th>7</th>\n",
       "      <td>109298</td>\n",
       "      <td>21.4%</td>\n",
       "    </tr>\n",
       "    <tr>\n",
       "      <th>5</th>\n",
       "      <td>93829</td>\n",
       "      <td>18.4%</td>\n",
       "    </tr>\n",
       "    <tr>\n",
       "      <th>4</th>\n",
       "      <td>86897</td>\n",
       "      <td>17.1%</td>\n",
       "    </tr>\n",
       "    <tr>\n",
       "      <th>8</th>\n",
       "      <td>35277</td>\n",
       "      <td>6.9%</td>\n",
       "    </tr>\n",
       "    <tr>\n",
       "      <th>10</th>\n",
       "      <td>23586</td>\n",
       "      <td>4.6%</td>\n",
       "    </tr>\n",
       "    <tr>\n",
       "      <th>9</th>\n",
       "      <td>22399</td>\n",
       "      <td>4.4%</td>\n",
       "    </tr>\n",
       "    <tr>\n",
       "      <th>11</th>\n",
       "      <td>13790</td>\n",
       "      <td>2.7%</td>\n",
       "    </tr>\n",
       "    <tr>\n",
       "      <th>12</th>\n",
       "      <td>6160</td>\n",
       "      <td>1.2%</td>\n",
       "    </tr>\n",
       "    <tr>\n",
       "      <th>13</th>\n",
       "      <td>2388</td>\n",
       "      <td>0.5%</td>\n",
       "    </tr>\n",
       "    <tr>\n",
       "      <th>15</th>\n",
       "      <td>2216</td>\n",
       "      <td>0.4%</td>\n",
       "    </tr>\n",
       "    <tr>\n",
       "      <th>14</th>\n",
       "      <td>1737</td>\n",
       "      <td>0.3%</td>\n",
       "    </tr>\n",
       "  </tbody>\n",
       "</table>\n",
       "</div>"
      ],
      "text/plain": [
       "        count percentage\n",
       "value                   \n",
       "6      112058      22.0%\n",
       "7      109298      21.4%\n",
       "5       93829      18.4%\n",
       "4       86897      17.1%\n",
       "8       35277       6.9%\n",
       "10      23586       4.6%\n",
       "9       22399       4.4%\n",
       "11      13790       2.7%\n",
       "12       6160       1.2%\n",
       "13       2388       0.5%\n",
       "15       2216       0.4%\n",
       "14       1737       0.3%"
      ]
     },
     "execution_count": 83,
     "metadata": {},
     "output_type": "execute_result"
    }
   ],
   "source": [
    "discrete_table(data_raw['VehPower'])"
   ]
  },
  {
   "cell_type": "code",
   "execution_count": null,
   "metadata": {},
   "outputs": [],
   "source": [
    "\n",
    "\n"
   ]
  },
  {
   "cell_type": "markdown",
   "metadata": {},
   "source": [
    "## BonusMalus\n",
    "\n",
    "A numeric for the bonus/malus, between 50 and 350: <100 means bonus, >100 means malus in France.\n",
    "\n",
    "- Historic claims factor\n",
    "- Presented as coninuous but not sure if the scale is linear \n",
    "- Possibly treat as category (H.M.L)\n",
    "\n"
   ]
  },
  {
   "cell_type": "code",
   "execution_count": 140,
   "metadata": {},
   "outputs": [
    {
     "data": {
      "text/plain": [
       "count    509635.000000\n",
       "mean         59.787993\n",
       "std          15.667390\n",
       "min          50.000000\n",
       "25%          50.000000\n",
       "50%          50.000000\n",
       "75%          65.000000\n",
       "max         230.000000\n",
       "Name: BonusMalus, dtype: float64"
      ]
     },
     "execution_count": 140,
     "metadata": {},
     "output_type": "execute_result"
    }
   ],
   "source": [
    "data_raw['BonusMalus'].describe()"
   ]
  },
  {
   "cell_type": "code",
   "execution_count": 141,
   "metadata": {},
   "outputs": [
    {
     "data": {
      "text/plain": [
       "<matplotlib.axes._subplots.AxesSubplot at 0x152941803c8>"
      ]
     },
     "execution_count": 141,
     "metadata": {},
     "output_type": "execute_result"
    },
    {
     "data": {
      "image/png": "[encoded data removed]",
      "text/plain": [
       "<Figure size 432x288 with 1 Axes>"
      ]
     },
     "metadata": {
      "needs_background": "light"
     },
     "output_type": "display_data"
    }
   ],
   "source": [
    "data_raw['BonusMalus'].plot(kind='kde')"
   ]
  },
  {
   "cell_type": "markdown",
   "metadata": {},
   "source": [
    "## VehBrand\n",
    "- Categorical"
   ]
  },
  {
   "cell_type": "code",
   "execution_count": 67,
   "metadata": {},
   "outputs": [
    {
     "data": {
      "text/html": [
       "<div>\n",
       "<style scoped>\n",
       "    .dataframe tbody tr th:only-of-type {\n",
       "        vertical-align: middle;\n",
       "    }\n",
       "\n",
       "    .dataframe tbody tr th {\n",
       "        vertical-align: top;\n",
       "    }\n",
       "\n",
       "    .dataframe thead th {\n",
       "        text-align: right;\n",
       "    }\n",
       "</style>\n",
       "<table border=\"1\" class=\"dataframe\">\n",
       "  <thead>\n",
       "    <tr style=\"text-align: right;\">\n",
       "      <th></th>\n",
       "      <th>count</th>\n",
       "      <th>percentage</th>\n",
       "    </tr>\n",
       "    <tr>\n",
       "      <th>value</th>\n",
       "      <th></th>\n",
       "      <th></th>\n",
       "    </tr>\n",
       "  </thead>\n",
       "  <tbody>\n",
       "    <tr>\n",
       "      <th>6</th>\n",
       "      <td>112058</td>\n",
       "      <td>22.0%</td>\n",
       "    </tr>\n",
       "    <tr>\n",
       "      <th>7</th>\n",
       "      <td>109298</td>\n",
       "      <td>21.4%</td>\n",
       "    </tr>\n",
       "    <tr>\n",
       "      <th>5</th>\n",
       "      <td>93829</td>\n",
       "      <td>18.4%</td>\n",
       "    </tr>\n",
       "    <tr>\n",
       "      <th>4</th>\n",
       "      <td>86897</td>\n",
       "      <td>17.1%</td>\n",
       "    </tr>\n",
       "    <tr>\n",
       "      <th>8</th>\n",
       "      <td>35277</td>\n",
       "      <td>6.9%</td>\n",
       "    </tr>\n",
       "    <tr>\n",
       "      <th>10</th>\n",
       "      <td>23586</td>\n",
       "      <td>4.6%</td>\n",
       "    </tr>\n",
       "    <tr>\n",
       "      <th>9</th>\n",
       "      <td>22399</td>\n",
       "      <td>4.4%</td>\n",
       "    </tr>\n",
       "    <tr>\n",
       "      <th>11</th>\n",
       "      <td>13790</td>\n",
       "      <td>2.7%</td>\n",
       "    </tr>\n",
       "    <tr>\n",
       "      <th>12</th>\n",
       "      <td>6160</td>\n",
       "      <td>1.2%</td>\n",
       "    </tr>\n",
       "    <tr>\n",
       "      <th>13</th>\n",
       "      <td>2388</td>\n",
       "      <td>0.5%</td>\n",
       "    </tr>\n",
       "    <tr>\n",
       "      <th>15</th>\n",
       "      <td>2216</td>\n",
       "      <td>0.4%</td>\n",
       "    </tr>\n",
       "    <tr>\n",
       "      <th>14</th>\n",
       "      <td>1737</td>\n",
       "      <td>0.3%</td>\n",
       "    </tr>\n",
       "  </tbody>\n",
       "</table>\n",
       "</div>"
      ],
      "text/plain": [
       "        count percentage\n",
       "value                   \n",
       "6      112058      22.0%\n",
       "7      109298      21.4%\n",
       "5       93829      18.4%\n",
       "4       86897      17.1%\n",
       "8       35277       6.9%\n",
       "10      23586       4.6%\n",
       "9       22399       4.4%\n",
       "11      13790       2.7%\n",
       "12       6160       1.2%\n",
       "13       2388       0.5%\n",
       "15       2216       0.4%\n",
       "14       1737       0.3%"
      ]
     },
     "execution_count": 67,
     "metadata": {},
     "output_type": "execute_result"
    }
   ],
   "source": [
    "discrete_table(data_raw['VehPower'])"
   ]
  },
  {
   "cell_type": "markdown",
   "metadata": {},
   "source": [
    "## VehGas"
   ]
  },
  {
   "cell_type": "code",
   "execution_count": 68,
   "metadata": {},
   "outputs": [
    {
     "data": {
      "text/html": [
       "<div>\n",
       "<style scoped>\n",
       "    .dataframe tbody tr th:only-of-type {\n",
       "        vertical-align: middle;\n",
       "    }\n",
       "\n",
       "    .dataframe tbody tr th {\n",
       "        vertical-align: top;\n",
       "    }\n",
       "\n",
       "    .dataframe thead th {\n",
       "        text-align: right;\n",
       "    }\n",
       "</style>\n",
       "<table border=\"1\" class=\"dataframe\">\n",
       "  <thead>\n",
       "    <tr style=\"text-align: right;\">\n",
       "      <th></th>\n",
       "      <th>count</th>\n",
       "      <th>percentage</th>\n",
       "    </tr>\n",
       "    <tr>\n",
       "      <th>value</th>\n",
       "      <th></th>\n",
       "      <th></th>\n",
       "    </tr>\n",
       "  </thead>\n",
       "  <tbody>\n",
       "    <tr>\n",
       "      <th>Regular</th>\n",
       "      <td>260232</td>\n",
       "      <td>51.1%</td>\n",
       "    </tr>\n",
       "    <tr>\n",
       "      <th>Diesel</th>\n",
       "      <td>249403</td>\n",
       "      <td>48.9%</td>\n",
       "    </tr>\n",
       "  </tbody>\n",
       "</table>\n",
       "</div>"
      ],
      "text/plain": [
       "          count percentage\n",
       "value                     \n",
       "Regular  260232      51.1%\n",
       "Diesel   249403      48.9%"
      ]
     },
     "execution_count": 68,
     "metadata": {},
     "output_type": "execute_result"
    }
   ],
   "source": [
    "discrete_table(data_raw['VehGas'])"
   ]
  },
  {
   "cell_type": "markdown",
   "metadata": {},
   "source": [
    "## Region\n",
    "\n",
    "The policy region in France (based on the 1970-2015 classification).\n",
    "- 22 regions"
   ]
  },
  {
   "cell_type": "code",
   "execution_count": 145,
   "metadata": {},
   "outputs": [
    {
     "data": {
      "text/html": [
       "<div>\n",
       "<style scoped>\n",
       "    .dataframe tbody tr th:only-of-type {\n",
       "        vertical-align: middle;\n",
       "    }\n",
       "\n",
       "    .dataframe tbody tr th {\n",
       "        vertical-align: top;\n",
       "    }\n",
       "\n",
       "    .dataframe thead th {\n",
       "        text-align: right;\n",
       "    }\n",
       "</style>\n",
       "<table border=\"1\" class=\"dataframe\">\n",
       "  <thead>\n",
       "    <tr style=\"text-align: right;\">\n",
       "      <th></th>\n",
       "      <th>count</th>\n",
       "      <th>percentage</th>\n",
       "    </tr>\n",
       "    <tr>\n",
       "      <th>value</th>\n",
       "      <th></th>\n",
       "      <th></th>\n",
       "    </tr>\n",
       "  </thead>\n",
       "  <tbody>\n",
       "    <tr>\n",
       "      <th>R11</th>\n",
       "      <td>52578</td>\n",
       "      <td>10.3%</td>\n",
       "    </tr>\n",
       "    <tr>\n",
       "      <th>R21</th>\n",
       "      <td>2286</td>\n",
       "      <td>0.4%</td>\n",
       "    </tr>\n",
       "    <tr>\n",
       "      <th>R22</th>\n",
       "      <td>6032</td>\n",
       "      <td>1.2%</td>\n",
       "    </tr>\n",
       "    <tr>\n",
       "      <th>R23</th>\n",
       "      <td>6544</td>\n",
       "      <td>1.3%</td>\n",
       "    </tr>\n",
       "    <tr>\n",
       "      <th>R24</th>\n",
       "      <td>120706</td>\n",
       "      <td>23.7%</td>\n",
       "    </tr>\n",
       "    <tr>\n",
       "      <th>R25</th>\n",
       "      <td>8214</td>\n",
       "      <td>1.6%</td>\n",
       "    </tr>\n",
       "    <tr>\n",
       "      <th>R26</th>\n",
       "      <td>7851</td>\n",
       "      <td>1.5%</td>\n",
       "    </tr>\n",
       "    <tr>\n",
       "      <th>R31</th>\n",
       "      <td>20462</td>\n",
       "      <td>4.0%</td>\n",
       "    </tr>\n",
       "    <tr>\n",
       "      <th>R41</th>\n",
       "      <td>9694</td>\n",
       "      <td>1.9%</td>\n",
       "    </tr>\n",
       "    <tr>\n",
       "      <th>R42</th>\n",
       "      <td>1671</td>\n",
       "      <td>0.3%</td>\n",
       "    </tr>\n",
       "    <tr>\n",
       "      <th>R43</th>\n",
       "      <td>1003</td>\n",
       "      <td>0.2%</td>\n",
       "    </tr>\n",
       "    <tr>\n",
       "      <th>R52</th>\n",
       "      <td>29029</td>\n",
       "      <td>5.7%</td>\n",
       "    </tr>\n",
       "    <tr>\n",
       "      <th>R53</th>\n",
       "      <td>31551</td>\n",
       "      <td>6.2%</td>\n",
       "    </tr>\n",
       "    <tr>\n",
       "      <th>R54</th>\n",
       "      <td>14350</td>\n",
       "      <td>2.8%</td>\n",
       "    </tr>\n",
       "    <tr>\n",
       "      <th>R72</th>\n",
       "      <td>23513</td>\n",
       "      <td>4.6%</td>\n",
       "    </tr>\n",
       "    <tr>\n",
       "      <th>R73</th>\n",
       "      <td>12931</td>\n",
       "      <td>2.5%</td>\n",
       "    </tr>\n",
       "    <tr>\n",
       "      <th>R74</th>\n",
       "      <td>3434</td>\n",
       "      <td>0.7%</td>\n",
       "    </tr>\n",
       "    <tr>\n",
       "      <th>R82</th>\n",
       "      <td>63693</td>\n",
       "      <td>12.5%</td>\n",
       "    </tr>\n",
       "    <tr>\n",
       "      <th>R83</th>\n",
       "      <td>3978</td>\n",
       "      <td>0.8%</td>\n",
       "    </tr>\n",
       "    <tr>\n",
       "      <th>R91</th>\n",
       "      <td>26946</td>\n",
       "      <td>5.3%</td>\n",
       "    </tr>\n",
       "    <tr>\n",
       "      <th>R93</th>\n",
       "      <td>59753</td>\n",
       "      <td>11.7%</td>\n",
       "    </tr>\n",
       "    <tr>\n",
       "      <th>R94</th>\n",
       "      <td>3416</td>\n",
       "      <td>0.7%</td>\n",
       "    </tr>\n",
       "  </tbody>\n",
       "</table>\n",
       "</div>"
      ],
      "text/plain": [
       "        count percentage\n",
       "value                   \n",
       "R11     52578      10.3%\n",
       "R21      2286       0.4%\n",
       "R22      6032       1.2%\n",
       "R23      6544       1.3%\n",
       "R24    120706      23.7%\n",
       "R25      8214       1.6%\n",
       "R26      7851       1.5%\n",
       "R31     20462       4.0%\n",
       "R41      9694       1.9%\n",
       "R42      1671       0.3%\n",
       "R43      1003       0.2%\n",
       "R52     29029       5.7%\n",
       "R53     31551       6.2%\n",
       "R54     14350       2.8%\n",
       "R72     23513       4.6%\n",
       "R73     12931       2.5%\n",
       "R74      3434       0.7%\n",
       "R82     63693      12.5%\n",
       "R83      3978       0.8%\n",
       "R91     26946       5.3%\n",
       "R93     59753      11.7%\n",
       "R94      3416       0.7%"
      ]
     },
     "execution_count": 145,
     "metadata": {},
     "output_type": "execute_result"
    }
   ],
   "source": [
    "discrete_table(data_raw['Region']).sort_index()"
   ]
  },
  {
   "cell_type": "markdown",
   "metadata": {},
   "source": [
    "## DrivAgeBand\n",
    "\n",
    "The driver age, in years (in France, people can drive a car at 18).\n",
    "\n",
    "- very few under 25, remove as this is a high-risk age bracket and could distort results without sufficient observations"
   ]
  },
  {
   "cell_type": "code",
   "execution_count": 87,
   "metadata": {},
   "outputs": [
    {
     "data": {
      "text/html": [
       "<div>\n",
       "<style scoped>\n",
       "    .dataframe tbody tr th:only-of-type {\n",
       "        vertical-align: middle;\n",
       "    }\n",
       "\n",
       "    .dataframe tbody tr th {\n",
       "        vertical-align: top;\n",
       "    }\n",
       "\n",
       "    .dataframe thead th {\n",
       "        text-align: right;\n",
       "    }\n",
       "</style>\n",
       "<table border=\"1\" class=\"dataframe\">\n",
       "  <thead>\n",
       "    <tr style=\"text-align: right;\">\n",
       "      <th></th>\n",
       "      <th>count</th>\n",
       "      <th>percentage</th>\n",
       "    </tr>\n",
       "    <tr>\n",
       "      <th>value</th>\n",
       "      <th></th>\n",
       "      <th></th>\n",
       "    </tr>\n",
       "  </thead>\n",
       "  <tbody>\n",
       "    <tr>\n",
       "      <th>(35,45]</th>\n",
       "      <td>128229</td>\n",
       "      <td>25.2%</td>\n",
       "    </tr>\n",
       "    <tr>\n",
       "      <th>(45,55]</th>\n",
       "      <td>121602</td>\n",
       "      <td>23.9%</td>\n",
       "    </tr>\n",
       "    <tr>\n",
       "      <th>(25,35]</th>\n",
       "      <td>111796</td>\n",
       "      <td>21.9%</td>\n",
       "    </tr>\n",
       "    <tr>\n",
       "      <th>(55,65]</th>\n",
       "      <td>68446</td>\n",
       "      <td>13.4%</td>\n",
       "    </tr>\n",
       "    <tr>\n",
       "      <th>(65,Inf]</th>\n",
       "      <td>50202</td>\n",
       "      <td>9.9%</td>\n",
       "    </tr>\n",
       "    <tr>\n",
       "      <th>(18,25]</th>\n",
       "      <td>28807</td>\n",
       "      <td>5.7%</td>\n",
       "    </tr>\n",
       "    <tr>\n",
       "      <th>(18, 25]</th>\n",
       "      <td>553</td>\n",
       "      <td>0.1%</td>\n",
       "    </tr>\n",
       "  </tbody>\n",
       "</table>\n",
       "</div>"
      ],
      "text/plain": [
       "           count percentage\n",
       "value                      \n",
       "(35,45]   128229      25.2%\n",
       "(45,55]   121602      23.9%\n",
       "(25,35]   111796      21.9%\n",
       "(55,65]    68446      13.4%\n",
       "(65,Inf]   50202       9.9%\n",
       "(18,25]    28807       5.7%\n",
       "(18, 25]     553       0.1%"
      ]
     },
     "execution_count": 87,
     "metadata": {},
     "output_type": "execute_result"
    }
   ],
   "source": [
    "discrete_table(data_raw['DrivAgeBand'])"
   ]
  },
  {
   "cell_type": "code",
   "execution_count": 125,
   "metadata": {},
   "outputs": [],
   "source": [
    "data['DrivAgeBand'] = data['DrivAgeBand'].apply(lambda x: x.replace(\"(\",\"\"))\n",
    "data['DrivAgeBand'] = data['DrivAgeBand'].apply(lambda x: x.replace(\"]\",\"\"))\n",
    "data = data.loc[data['DrivAgeBand']!='18, 25']"
   ]
  },
  {
   "cell_type": "code",
   "execution_count": 126,
   "metadata": {},
   "outputs": [
    {
     "data": {
      "text/html": [
       "<div>\n",
       "<style scoped>\n",
       "    .dataframe tbody tr th:only-of-type {\n",
       "        vertical-align: middle;\n",
       "    }\n",
       "\n",
       "    .dataframe tbody tr th {\n",
       "        vertical-align: top;\n",
       "    }\n",
       "\n",
       "    .dataframe thead th {\n",
       "        text-align: right;\n",
       "    }\n",
       "</style>\n",
       "<table border=\"1\" class=\"dataframe\">\n",
       "  <thead>\n",
       "    <tr style=\"text-align: right;\">\n",
       "      <th></th>\n",
       "      <th>count</th>\n",
       "      <th>percentage</th>\n",
       "    </tr>\n",
       "    <tr>\n",
       "      <th>value</th>\n",
       "      <th></th>\n",
       "      <th></th>\n",
       "    </tr>\n",
       "  </thead>\n",
       "  <tbody>\n",
       "    <tr>\n",
       "      <th>35,45</th>\n",
       "      <td>102517</td>\n",
       "      <td>24.9%</td>\n",
       "    </tr>\n",
       "    <tr>\n",
       "      <th>45,55</th>\n",
       "      <td>101041</td>\n",
       "      <td>24.5%</td>\n",
       "    </tr>\n",
       "    <tr>\n",
       "      <th>25,35</th>\n",
       "      <td>85213</td>\n",
       "      <td>20.7%</td>\n",
       "    </tr>\n",
       "    <tr>\n",
       "      <th>55,65</th>\n",
       "      <td>57784</td>\n",
       "      <td>14.0%</td>\n",
       "    </tr>\n",
       "    <tr>\n",
       "      <th>65,Inf</th>\n",
       "      <td>44416</td>\n",
       "      <td>10.8%</td>\n",
       "    </tr>\n",
       "    <tr>\n",
       "      <th>18,25</th>\n",
       "      <td>21224</td>\n",
       "      <td>5.1%</td>\n",
       "    </tr>\n",
       "  </tbody>\n",
       "</table>\n",
       "</div>"
      ],
      "text/plain": [
       "         count percentage\n",
       "value                    \n",
       "35,45   102517      24.9%\n",
       "45,55   101041      24.5%\n",
       "25,35    85213      20.7%\n",
       "55,65    57784      14.0%\n",
       "65,Inf   44416      10.8%\n",
       "18,25    21224       5.1%"
      ]
     },
     "execution_count": 126,
     "metadata": {},
     "output_type": "execute_result"
    }
   ],
   "source": [
    "discrete_table(data['DrivAgeBand'])"
   ]
  },
  {
   "cell_type": "markdown",
   "metadata": {},
   "source": [
    "## DensityBand\n",
    "The density of inhabitants (number of inhabitants per km2) in the city the driver of the car lives in."
   ]
  },
  {
   "cell_type": "code",
   "execution_count": 88,
   "metadata": {
    "scrolled": true
   },
   "outputs": [
    {
     "data": {
      "text/html": [
       "<div>\n",
       "<style scoped>\n",
       "    .dataframe tbody tr th:only-of-type {\n",
       "        vertical-align: middle;\n",
       "    }\n",
       "\n",
       "    .dataframe tbody tr th {\n",
       "        vertical-align: top;\n",
       "    }\n",
       "\n",
       "    .dataframe thead th {\n",
       "        text-align: right;\n",
       "    }\n",
       "</style>\n",
       "<table border=\"1\" class=\"dataframe\">\n",
       "  <thead>\n",
       "    <tr style=\"text-align: right;\">\n",
       "      <th></th>\n",
       "      <th>count</th>\n",
       "      <th>percentage</th>\n",
       "    </tr>\n",
       "    <tr>\n",
       "      <th>value</th>\n",
       "      <th></th>\n",
       "      <th></th>\n",
       "    </tr>\n",
       "  </thead>\n",
       "  <tbody>\n",
       "    <tr>\n",
       "      <th>(400,1e+03]</th>\n",
       "      <td>214382</td>\n",
       "      <td>42.1%</td>\n",
       "    </tr>\n",
       "    <tr>\n",
       "      <th>(1e+03,2e+03]</th>\n",
       "      <td>169853</td>\n",
       "      <td>33.3%</td>\n",
       "    </tr>\n",
       "    <tr>\n",
       "      <th>(200,400]</th>\n",
       "      <td>57877</td>\n",
       "      <td>11.4%</td>\n",
       "    </tr>\n",
       "    <tr>\n",
       "      <th>(100,200]</th>\n",
       "      <td>36459</td>\n",
       "      <td>7.2%</td>\n",
       "    </tr>\n",
       "    <tr>\n",
       "      <th>(0,50]</th>\n",
       "      <td>17529</td>\n",
       "      <td>3.4%</td>\n",
       "    </tr>\n",
       "    <tr>\n",
       "      <th>(50,100]</th>\n",
       "      <td>13535</td>\n",
       "      <td>2.7%</td>\n",
       "    </tr>\n",
       "  </tbody>\n",
       "</table>\n",
       "</div>"
      ],
      "text/plain": [
       "                count percentage\n",
       "value                           \n",
       "(400,1e+03]    214382      42.1%\n",
       "(1e+03,2e+03]  169853      33.3%\n",
       "(200,400]       57877      11.4%\n",
       "(100,200]       36459       7.2%\n",
       "(0,50]          17529       3.4%\n",
       "(50,100]        13535       2.7%"
      ]
     },
     "execution_count": 88,
     "metadata": {},
     "output_type": "execute_result"
    }
   ],
   "source": [
    "discrete_table(data_raw['DensityBand'])"
   ]
  },
  {
   "cell_type": "markdown",
   "metadata": {},
   "source": [
    "## VehAgeBand\n",
    "\n",
    "The vehicle age, in years"
   ]
  },
  {
   "cell_type": "code",
   "execution_count": 110,
   "metadata": {
    "scrolled": true
   },
   "outputs": [
    {
     "data": {
      "text/html": [
       "<div>\n",
       "<style scoped>\n",
       "    .dataframe tbody tr th:only-of-type {\n",
       "        vertical-align: middle;\n",
       "    }\n",
       "\n",
       "    .dataframe tbody tr th {\n",
       "        vertical-align: top;\n",
       "    }\n",
       "\n",
       "    .dataframe thead th {\n",
       "        text-align: right;\n",
       "    }\n",
       "</style>\n",
       "<table border=\"1\" class=\"dataframe\">\n",
       "  <thead>\n",
       "    <tr style=\"text-align: right;\">\n",
       "      <th></th>\n",
       "      <th>count</th>\n",
       "      <th>percentage</th>\n",
       "    </tr>\n",
       "    <tr>\n",
       "      <th>value</th>\n",
       "      <th></th>\n",
       "      <th></th>\n",
       "    </tr>\n",
       "  </thead>\n",
       "  <tbody>\n",
       "    <tr>\n",
       "      <th>1</th>\n",
       "      <td>53556</td>\n",
       "      <td>10.5%</td>\n",
       "    </tr>\n",
       "    <tr>\n",
       "      <th>2</th>\n",
       "      <td>44593</td>\n",
       "      <td>8.7%</td>\n",
       "    </tr>\n",
       "    <tr>\n",
       "      <th>0</th>\n",
       "      <td>43617</td>\n",
       "      <td>8.6%</td>\n",
       "    </tr>\n",
       "    <tr>\n",
       "      <th>15+</th>\n",
       "      <td>38765</td>\n",
       "      <td>7.6%</td>\n",
       "    </tr>\n",
       "    <tr>\n",
       "      <th>3</th>\n",
       "      <td>37756</td>\n",
       "      <td>7.4%</td>\n",
       "    </tr>\n",
       "    <tr>\n",
       "      <th>4</th>\n",
       "      <td>32618</td>\n",
       "      <td>6.4%</td>\n",
       "    </tr>\n",
       "    <tr>\n",
       "      <th>5</th>\n",
       "      <td>29034</td>\n",
       "      <td>5.7%</td>\n",
       "    </tr>\n",
       "    <tr>\n",
       "      <th>10</th>\n",
       "      <td>28889</td>\n",
       "      <td>5.7%</td>\n",
       "    </tr>\n",
       "    <tr>\n",
       "      <th>6</th>\n",
       "      <td>26782</td>\n",
       "      <td>5.3%</td>\n",
       "    </tr>\n",
       "    <tr>\n",
       "      <th>7</th>\n",
       "      <td>24770</td>\n",
       "      <td>4.9%</td>\n",
       "    </tr>\n",
       "    <tr>\n",
       "      <th>8</th>\n",
       "      <td>24447</td>\n",
       "      <td>4.8%</td>\n",
       "    </tr>\n",
       "    <tr>\n",
       "      <th>9</th>\n",
       "      <td>23982</td>\n",
       "      <td>4.7%</td>\n",
       "    </tr>\n",
       "    <tr>\n",
       "      <th>11</th>\n",
       "      <td>22217</td>\n",
       "      <td>4.4%</td>\n",
       "    </tr>\n",
       "    <tr>\n",
       "      <th>12</th>\n",
       "      <td>21835</td>\n",
       "      <td>4.3%</td>\n",
       "    </tr>\n",
       "    <tr>\n",
       "      <th>13</th>\n",
       "      <td>20498</td>\n",
       "      <td>4.0%</td>\n",
       "    </tr>\n",
       "    <tr>\n",
       "      <th>14</th>\n",
       "      <td>18529</td>\n",
       "      <td>3.6%</td>\n",
       "    </tr>\n",
       "    <tr>\n",
       "      <th>15</th>\n",
       "      <td>17747</td>\n",
       "      <td>3.5%</td>\n",
       "    </tr>\n",
       "  </tbody>\n",
       "</table>\n",
       "</div>"
      ],
      "text/plain": [
       "       count percentage\n",
       "value                  \n",
       "1      53556      10.5%\n",
       "2      44593       8.7%\n",
       "0      43617       8.6%\n",
       "15+    38765       7.6%\n",
       "3      37756       7.4%\n",
       "4      32618       6.4%\n",
       "5      29034       5.7%\n",
       "10     28889       5.7%\n",
       "6      26782       5.3%\n",
       "7      24770       4.9%\n",
       "8      24447       4.8%\n",
       "9      23982       4.7%\n",
       "11     22217       4.4%\n",
       "12     21835       4.3%\n",
       "13     20498       4.0%\n",
       "14     18529       3.6%\n",
       "15     17747       3.5%"
      ]
     },
     "execution_count": 110,
     "metadata": {},
     "output_type": "execute_result"
    }
   ],
   "source": [
    "discrete_table(data_raw['VehAgeBand'])"
   ]
  },
  {
   "cell_type": "markdown",
   "metadata": {},
   "source": [
    "\n"
   ]
  }
 ],
 "metadata": {
  "kernelspec": {
   "display_name": "Python 3",
   "language": "python",
   "name": "python3"
  },
  "language_info": {
   "codemirror_mode": {
    "name": "ipython",
    "version": 3
   },
   "file_extension": ".py",
   "mimetype": "text/x-python",
   "name": "python",
   "nbconvert_exporter": "python",
   "pygments_lexer": "ipython3",
   "version": "3.7.7"
  },
  "toc": {
   "base_numbering": 1,
   "nav_menu": {},
   "number_sections": true,
   "sideBar": true,
   "skip_h1_title": false,
   "title_cell": "Table of Contents",
   "title_sidebar": "Contents",
   "toc_cell": false,
   "toc_position": {
    "height": "calc(100% - 180px)",
    "left": "10px",
    "top": "150px",
    "width": "191.594px"
   },
   "toc_section_display": true,
   "toc_window_display": true
  }
 },
 "nbformat": 4,
 "nbformat_minor": 4
}
