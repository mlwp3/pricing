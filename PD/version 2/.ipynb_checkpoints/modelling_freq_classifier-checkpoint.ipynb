{
 "cells": [
  {
   "cell_type": "markdown",
   "metadata": {},
   "source": [
    "# Frequency Projection"
   ]
  },
  {
   "cell_type": "code",
   "execution_count": 1,
   "metadata": {},
   "outputs": [],
   "source": [
    "import pandas as pd\n",
    "import numpy as np\n",
    "\n",
    "from sklearn.ensemble import RandomForestClassifier\n",
    "from sklearn.ensemble import RandomForestRegressor\n",
    "from sklearn.model_selection import cross_val_score\n",
    "\n",
    "from sklearn.metrics import roc_curve, auc\n",
    "from sklearn.metrics import r2_score,mean_squared_error\n",
    "\n",
    "from sklearn.datasets import make_classification\n",
    "\n",
    "import matplotlib.pyplot as plt\n",
    "\n",
    "import data_cleansing as dc\n",
    "import data_utils as du"
   ]
  },
  {
   "cell_type": "markdown",
   "metadata": {},
   "source": [
    "## load the data and apply cleaning steps\n"
   ]
  },
  {
   "cell_type": "code",
   "execution_count": 2,
   "metadata": {},
   "outputs": [],
   "source": [
    "data_train_raw, data_test_raw = dc.load_file()\n",
    "\n",
    "data_test = data_test_raw.copy()\n",
    "data_train = data_train_raw.copy()\n"
   ]
  },
  {
   "cell_type": "markdown",
   "metadata": {},
   "source": [
    "## Setup the dataset \n",
    "Set the target"
   ]
  },
  {
   "cell_type": "code",
   "execution_count": 3,
   "metadata": {},
   "outputs": [],
   "source": [
    "target_cap = 1\n",
    "data_train['ClaimNb'] = data_train['ClaimNb'].where(data_train['ClaimNb']<target_cap, target_cap)\n",
    "data_test['ClaimNb'] = data_test['ClaimNb'].where(data_test['ClaimNb']<target_cap, target_cap)\n",
    "\n",
    "target_name='ClaimNb'\n"
   ]
  },
  {
   "cell_type": "markdown",
   "metadata": {},
   "source": [
    "## Apply lable encoding to the factors"
   ]
  },
  {
   "cell_type": "code",
   "execution_count": 4,
   "metadata": {},
   "outputs": [],
   "source": [
    "\n",
    "label_encode_factors = ['Area',\n",
    "                        'VehPower',\n",
    "                        'VehBrand',\n",
    "                        'VehGas',\n",
    "                        'Region',\n",
    "                        'DrivAgeBand',\n",
    "                        'DensityBand',\n",
    "                        'VehAgeBand']\n",
    "# encode training data and save encoders used\n",
    "data_train_encoded, encoders = du.preprocess_labelencode(data_train, label_encode_factors)\n",
    "# apply trained encoders to test set\n",
    "data_test_encoded = du.preprocess_labelencode_apply(encoders, data_test, label_encode_factors)"
   ]
  },
  {
   "cell_type": "markdown",
   "metadata": {},
   "source": [
    "# Setup the Random Forest model"
   ]
  },
  {
   "cell_type": "markdown",
   "metadata": {},
   "source": [
    "## Split target from factors"
   ]
  },
  {
   "cell_type": "code",
   "execution_count": 5,
   "metadata": {},
   "outputs": [
    {
     "data": {
      "text/html": [
       "<div>\n",
       "<style scoped>\n",
       "    .dataframe tbody tr th:only-of-type {\n",
       "        vertical-align: middle;\n",
       "    }\n",
       "\n",
       "    .dataframe tbody tr th {\n",
       "        vertical-align: top;\n",
       "    }\n",
       "\n",
       "    .dataframe thead th {\n",
       "        text-align: right;\n",
       "    }\n",
       "</style>\n",
       "<table border=\"1\" class=\"dataframe\">\n",
       "  <thead>\n",
       "    <tr style=\"text-align: right;\">\n",
       "      <th></th>\n",
       "      <th>Area</th>\n",
       "      <th>VehPower</th>\n",
       "      <th>VehBrand</th>\n",
       "      <th>VehGas</th>\n",
       "      <th>Region</th>\n",
       "      <th>DrivAgeBand</th>\n",
       "      <th>DensityBand</th>\n",
       "      <th>VehAgeBand</th>\n",
       "    </tr>\n",
       "    <tr>\n",
       "      <th>RecordID</th>\n",
       "      <th></th>\n",
       "      <th></th>\n",
       "      <th></th>\n",
       "      <th></th>\n",
       "      <th></th>\n",
       "      <th></th>\n",
       "      <th></th>\n",
       "      <th></th>\n",
       "    </tr>\n",
       "  </thead>\n",
       "  <tbody>\n",
       "    <tr>\n",
       "      <th>2</th>\n",
       "      <td>1</td>\n",
       "      <td>3</td>\n",
       "      <td>3</td>\n",
       "      <td>0</td>\n",
       "      <td>14</td>\n",
       "      <td>3</td>\n",
       "      <td>6</td>\n",
       "      <td>0</td>\n",
       "    </tr>\n",
       "    <tr>\n",
       "      <th>4</th>\n",
       "      <td>2</td>\n",
       "      <td>5</td>\n",
       "      <td>3</td>\n",
       "      <td>1</td>\n",
       "      <td>17</td>\n",
       "      <td>4</td>\n",
       "      <td>3</td>\n",
       "      <td>0</td>\n",
       "    </tr>\n",
       "    <tr>\n",
       "      <th>7</th>\n",
       "      <td>1</td>\n",
       "      <td>3</td>\n",
       "      <td>3</td>\n",
       "      <td>0</td>\n",
       "      <td>2</td>\n",
       "      <td>3</td>\n",
       "      <td>6</td>\n",
       "      <td>0</td>\n",
       "    </tr>\n",
       "    <tr>\n",
       "      <th>9</th>\n",
       "      <td>2</td>\n",
       "      <td>0</td>\n",
       "      <td>10</td>\n",
       "      <td>1</td>\n",
       "      <td>17</td>\n",
       "      <td>2</td>\n",
       "      <td>1</td>\n",
       "      <td>4</td>\n",
       "    </tr>\n",
       "    <tr>\n",
       "      <th>10</th>\n",
       "      <td>4</td>\n",
       "      <td>2</td>\n",
       "      <td>3</td>\n",
       "      <td>1</td>\n",
       "      <td>7</td>\n",
       "      <td>2</td>\n",
       "      <td>4</td>\n",
       "      <td>10</td>\n",
       "    </tr>\n",
       "  </tbody>\n",
       "</table>\n",
       "</div>"
      ],
      "text/plain": [
       "          Area  VehPower  VehBrand  VehGas  Region  DrivAgeBand  DensityBand  \\\n",
       "RecordID                                                                       \n",
       "2            1         3         3       0      14            3            6   \n",
       "4            2         5         3       1      17            4            3   \n",
       "7            1         3         3       0       2            3            6   \n",
       "9            2         0        10       1      17            2            1   \n",
       "10           4         2         3       1       7            2            4   \n",
       "\n",
       "          VehAgeBand  \n",
       "RecordID              \n",
       "2                  0  \n",
       "4                  0  \n",
       "7                  0  \n",
       "9                  4  \n",
       "10                10  "
      ]
     },
     "execution_count": 5,
     "metadata": {},
     "output_type": "execute_result"
    }
   ],
   "source": [
    "#sets used to train (resampled sets)\n",
    "x_train = data_train_encoded[label_encode_factors].copy()\n",
    "x_train_weights = data_train_encoded['Exposure']\n",
    "y_train = data_train_encoded[target_name].copy()\n",
    "\n",
    "#sets used to predict (and evaluate prediction)\n",
    "x_test = data_test_encoded[label_encode_factors].copy()\n",
    "y_test = data_test_encoded[target_name].copy()\n",
    "\n",
    "x_train.head()"
   ]
  },
  {
   "cell_type": "markdown",
   "metadata": {},
   "source": [
    "## Build the model and predict\n",
    "\n",
    "use exposure as sample weights"
   ]
  },
  {
   "cell_type": "code",
   "execution_count": 6,
   "metadata": {},
   "outputs": [
    {
     "name": "stderr",
     "output_type": "stream",
     "text": [
      "[Parallel(n_jobs=3)]: Using backend ThreadingBackend with 3 concurrent workers.\n",
      "[Parallel(n_jobs=3)]: Done  44 tasks      | elapsed:   17.9s\n",
      "[Parallel(n_jobs=3)]: Done 100 out of 100 | elapsed:   42.2s finished\n"
     ]
    },
    {
     "name": "stdout",
     "output_type": "stream",
     "text": [
      "Wall time: 51.9 s\n"
     ]
    }
   ],
   "source": [
    "%%time\n",
    "clf_rf = RandomForestClassifier(min_samples_leaf=10, \n",
    "                                n_estimators=100,\n",
    "                                max_depth=10,\n",
    "                                max_features='auto',\n",
    "                                criterion='gini',    #mse or mae\n",
    "                                verbose=True,\n",
    "                                oob_score=True,\n",
    "                                n_jobs=3)\n",
    "#fit values\n",
    "clf_rf = clf_rf.fit(x_train.values,\n",
    "                    y_train.values,\n",
    "                    sample_weight=x_train_weights)    \n"
   ]
  },
  {
   "cell_type": "code",
   "execution_count": 7,
   "metadata": {},
   "outputs": [
    {
     "name": "stderr",
     "output_type": "stream",
     "text": [
      "[Parallel(n_jobs=3)]: Using backend ThreadingBackend with 3 concurrent workers.\n",
      "[Parallel(n_jobs=3)]: Done  44 tasks      | elapsed:    2.2s\n",
      "[Parallel(n_jobs=3)]: Done 100 out of 100 | elapsed:    5.5s finished\n",
      "[Parallel(n_jobs=3)]: Using backend ThreadingBackend with 3 concurrent workers.\n",
      "[Parallel(n_jobs=3)]: Done  44 tasks      | elapsed:    0.9s\n",
      "[Parallel(n_jobs=3)]: Done 100 out of 100 | elapsed:    2.8s finished\n"
     ]
    }
   ],
   "source": [
    "#predict values\n",
    "y_train_predicted_rf = clf_rf.predict(x_train.values)\n",
    "y_test_predicted_rf = clf_rf.predict(x_test.values)  "
   ]
  },
  {
   "cell_type": "markdown",
   "metadata": {},
   "source": [
    "## Merge results back to data set"
   ]
  },
  {
   "cell_type": "code",
   "execution_count": 8,
   "metadata": {},
   "outputs": [],
   "source": [
    "target_name_predicted = target_name + '_predicted'\n",
    "\n",
    "x_train_out = x_train.copy()\n",
    "x_test_out = x_test.copy()\n",
    "\n",
    "x_train_out[target_name_predicted] = y_train_predicted_rf\n",
    "x_train_out[target_name] = y_train\n",
    "x_test_out[target_name_predicted] = y_test_predicted_rf\n",
    "x_test_out[target_name] = y_test"
   ]
  },
  {
   "cell_type": "markdown",
   "metadata": {},
   "source": [
    "# Test the results "
   ]
  },
  {
   "cell_type": "code",
   "execution_count": 9,
   "metadata": {},
   "outputs": [
    {
     "name": "stdout",
     "output_type": "stream",
     "text": [
      "Total Claims:  Tr Actual 23,116.00000 Te Actual 9,662.00000\n",
      "Total Claims:  Tr Predic 0.00000 Te Predic 0.00000\n",
      "Results:  Tr_G 0.02032 Te_G 0.01902 Tr_rmse 0.24210 Te_rmse 0.23909\n",
      "Factor Importance:\n",
      "           0            1\n",
      "7  0.231153   VehAgeBand\n",
      "2  0.162214     VehBrand\n",
      "4  0.144388       Region\n",
      "1  0.140592     VehPower\n",
      "5  0.123493  DrivAgeBand\n",
      "3  0.070633       VehGas\n",
      "6  0.065668  DensityBand\n",
      "0  0.061859         Area\n"
     ]
    }
   ],
   "source": [
    "# total claim results\n",
    "train_results_actual= x_train_out[target_name].sum()\n",
    "train_results_predict = x_train_out[target_name_predicted].sum()\n",
    "\n",
    "test_results_actual= x_test_out[target_name].sum()\n",
    "test_results_predict = x_test_out[target_name_predicted].sum()\n",
    "\n",
    "# gini results\n",
    "train_results_gini = du.gini(x_train_out[target_name].values, x_train_out[target_name_predicted].values)\n",
    "test_results_gini = du.gini(x_test_out[target_name].values, x_test_out[target_name_predicted].values)\n",
    "# mean squared error\n",
    "train_results_mse = np.sqrt(mean_squared_error(x_train_out[target_name].values, x_train_out[target_name_predicted].values))\n",
    "test_results_mse = np.sqrt(mean_squared_error(x_test_out[target_name].values, x_test_out[target_name_predicted].values))\n",
    "\n",
    "print('Total Claims: ', 'Tr Actual {:,.5f}'.format(train_results_actual),\n",
    "      'Te Actual {:,.5f}'.format(test_results_actual))\n",
    "print('Total Claims: ', 'Tr Predic {:,.5f}'.format(train_results_predict),\n",
    "      'Te Predic {:,.5f}'.format(test_results_predict))\n",
    "\n",
    "print('Results: ',\n",
    "      'Tr_G {:,.5f}'.format(train_results_gini),\n",
    "      'Te_G {:,.5f}'.format(test_results_gini),\n",
    "      'Tr_rmse {:,.5f}'.format(train_results_mse),\n",
    "      'Te_rmse {:,.5f}'.format(test_results_mse))\n",
    "\n",
    "print('Factor Importance:\\n', pd.DataFrame(zip(clf_rf.feature_importances_, x_train_out.columns)).sort_values(0, ascending=False))"
   ]
  },
  {
   "cell_type": "markdown",
   "metadata": {},
   "source": [
    "### Output the results"
   ]
  },
  {
   "cell_type": "code",
   "execution_count": 11,
   "metadata": {},
   "outputs": [
    {
     "name": "stdout",
     "output_type": "stream",
     "text": [
      "169028 394400\n"
     ]
    }
   ],
   "source": [
    "data_train_out = data_train_raw.join(x_train_out[target_name_predicted])\n",
    "data_test_out = data_test_raw.join(x_test_out[target_name_predicted])\n",
    "\n",
    "data_train_out.to_pickle('freq_train.pkl')\n",
    "data_test_out.to_pickle('freq_test.pkl')\n",
    "\n",
    "print(len(data_test_out), len(data_train_out))"
   ]
  },
  {
   "cell_type": "markdown",
   "metadata": {},
   "source": [
    "# Review the Results in Charts"
   ]
  },
  {
   "cell_type": "markdown",
   "metadata": {},
   "source": [
    "## Plot of distribution of results"
   ]
  },
  {
   "cell_type": "code",
   "execution_count": null,
   "metadata": {},
   "outputs": [],
   "source": [
    "#%% plot distribution charts\n",
    "#x_train_to_predict[[target_name, target_name_predicted]].plot(kind='kde', figsize=(20,10))\n",
    "#x_test[[target_name, target_name_predicted]].plot(kind='kde', figsize=(20,10))\n"
   ]
  },
  {
   "cell_type": "markdown",
   "metadata": {},
   "source": [
    "## Plot of mean claim numbers split by factor level"
   ]
  },
  {
   "cell_type": "markdown",
   "metadata": {},
   "source": [
    "### Plot fit of data"
   ]
  },
  {
   "cell_type": "code",
   "execution_count": null,
   "metadata": {},
   "outputs": [],
   "source": [
    "fig = du.plot_factors(x_test_out, target_name, target_name_predicted, x_train_out)\n",
    "fig.show()"
   ]
  },
  {
   "cell_type": "code",
   "execution_count": null,
   "metadata": {},
   "outputs": [],
   "source": []
  }
 ],
 "metadata": {
  "kernelspec": {
   "display_name": "Python 3",
   "language": "python",
   "name": "python3"
  },
  "language_info": {
   "codemirror_mode": {
    "name": "ipython",
    "version": 3
   },
   "file_extension": ".py",
   "mimetype": "text/x-python",
   "name": "python",
   "nbconvert_exporter": "python",
   "pygments_lexer": "ipython3",
   "version": "3.7.7"
  }
 },
 "nbformat": 4,
 "nbformat_minor": 4
}
